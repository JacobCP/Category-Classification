{
 "cells": [
  {
   "cell_type": "markdown",
   "metadata": {},
   "source": [
    "### Final results: using alpha = .01, lambda = .0001"
   ]
  },
  {
   "cell_type": "markdown",
   "metadata": {},
   "source": [
    "    Logistic regression: test accuracy ~.75, test cost ~.68\n",
    "    \n",
    "    NN - one hidden layer:\n",
    "        early stopping: test accuracy ~.79, test cost ~.55\n",
    "        \n",
    "    NN - two hidden layers:\n",
    "        early stopping: test accuracy ~.79 , test cost ~.54\n",
    "        regularization and early stopping: test accuracy ~.8, test cost ~.53       \n",
    "        \n",
    "    "
   ]
  },
  {
   "cell_type": "code",
   "execution_count": 1,
   "metadata": {},
   "outputs": [],
   "source": [
    "import numpy as np\n",
    "import pandas as pd\n",
    "import tensorflow as tf\n",
    "import matplotlib.pyplot as plt"
   ]
  },
  {
   "cell_type": "code",
   "execution_count": 2,
   "metadata": {},
   "outputs": [],
   "source": [
    "train = pd.read_csv(\"train.csv\")"
   ]
  },
  {
   "cell_type": "markdown",
   "metadata": {},
   "source": [
    "Let's have a look...."
   ]
  },
  {
   "cell_type": "code",
   "execution_count": 3,
   "metadata": {
    "scrolled": true
   },
   "outputs": [
    {
     "data": {
      "text/html": [
       "<div>\n",
       "<style scoped>\n",
       "    .dataframe tbody tr th:only-of-type {\n",
       "        vertical-align: middle;\n",
       "    }\n",
       "\n",
       "    .dataframe tbody tr th {\n",
       "        vertical-align: top;\n",
       "    }\n",
       "\n",
       "    .dataframe thead th {\n",
       "        text-align: right;\n",
       "    }\n",
       "</style>\n",
       "<table border=\"1\" class=\"dataframe\">\n",
       "  <thead>\n",
       "    <tr style=\"text-align: right;\">\n",
       "      <th></th>\n",
       "      <th>id</th>\n",
       "      <th>feat_1</th>\n",
       "      <th>feat_2</th>\n",
       "      <th>feat_3</th>\n",
       "      <th>feat_4</th>\n",
       "      <th>feat_5</th>\n",
       "      <th>feat_6</th>\n",
       "      <th>feat_7</th>\n",
       "      <th>feat_8</th>\n",
       "      <th>feat_9</th>\n",
       "      <th>...</th>\n",
       "      <th>feat_84</th>\n",
       "      <th>feat_85</th>\n",
       "      <th>feat_86</th>\n",
       "      <th>feat_87</th>\n",
       "      <th>feat_88</th>\n",
       "      <th>feat_89</th>\n",
       "      <th>feat_90</th>\n",
       "      <th>feat_91</th>\n",
       "      <th>feat_92</th>\n",
       "      <th>feat_93</th>\n",
       "    </tr>\n",
       "  </thead>\n",
       "  <tbody>\n",
       "    <tr>\n",
       "      <th>count</th>\n",
       "      <td>61878.000000</td>\n",
       "      <td>61878.00000</td>\n",
       "      <td>61878.000000</td>\n",
       "      <td>61878.000000</td>\n",
       "      <td>61878.000000</td>\n",
       "      <td>61878.000000</td>\n",
       "      <td>61878.000000</td>\n",
       "      <td>61878.000000</td>\n",
       "      <td>61878.000000</td>\n",
       "      <td>61878.000000</td>\n",
       "      <td>...</td>\n",
       "      <td>61878.000000</td>\n",
       "      <td>61878.000000</td>\n",
       "      <td>61878.000000</td>\n",
       "      <td>61878.000000</td>\n",
       "      <td>61878.000000</td>\n",
       "      <td>61878.000000</td>\n",
       "      <td>61878.000000</td>\n",
       "      <td>61878.000000</td>\n",
       "      <td>61878.000000</td>\n",
       "      <td>61878.000000</td>\n",
       "    </tr>\n",
       "    <tr>\n",
       "      <th>mean</th>\n",
       "      <td>30939.500000</td>\n",
       "      <td>0.38668</td>\n",
       "      <td>0.263066</td>\n",
       "      <td>0.901467</td>\n",
       "      <td>0.779081</td>\n",
       "      <td>0.071043</td>\n",
       "      <td>0.025696</td>\n",
       "      <td>0.193704</td>\n",
       "      <td>0.662433</td>\n",
       "      <td>1.011296</td>\n",
       "      <td>...</td>\n",
       "      <td>0.070752</td>\n",
       "      <td>0.532306</td>\n",
       "      <td>1.128576</td>\n",
       "      <td>0.393549</td>\n",
       "      <td>0.874915</td>\n",
       "      <td>0.457772</td>\n",
       "      <td>0.812421</td>\n",
       "      <td>0.264941</td>\n",
       "      <td>0.380119</td>\n",
       "      <td>0.126135</td>\n",
       "    </tr>\n",
       "    <tr>\n",
       "      <th>std</th>\n",
       "      <td>17862.784315</td>\n",
       "      <td>1.52533</td>\n",
       "      <td>1.252073</td>\n",
       "      <td>2.934818</td>\n",
       "      <td>2.788005</td>\n",
       "      <td>0.438902</td>\n",
       "      <td>0.215333</td>\n",
       "      <td>1.030102</td>\n",
       "      <td>2.255770</td>\n",
       "      <td>3.474822</td>\n",
       "      <td>...</td>\n",
       "      <td>1.151460</td>\n",
       "      <td>1.900438</td>\n",
       "      <td>2.681554</td>\n",
       "      <td>1.575455</td>\n",
       "      <td>2.115466</td>\n",
       "      <td>1.527385</td>\n",
       "      <td>4.597804</td>\n",
       "      <td>2.045646</td>\n",
       "      <td>0.982385</td>\n",
       "      <td>1.201720</td>\n",
       "    </tr>\n",
       "    <tr>\n",
       "      <th>min</th>\n",
       "      <td>1.000000</td>\n",
       "      <td>0.00000</td>\n",
       "      <td>0.000000</td>\n",
       "      <td>0.000000</td>\n",
       "      <td>0.000000</td>\n",
       "      <td>0.000000</td>\n",
       "      <td>0.000000</td>\n",
       "      <td>0.000000</td>\n",
       "      <td>0.000000</td>\n",
       "      <td>0.000000</td>\n",
       "      <td>...</td>\n",
       "      <td>0.000000</td>\n",
       "      <td>0.000000</td>\n",
       "      <td>0.000000</td>\n",
       "      <td>0.000000</td>\n",
       "      <td>0.000000</td>\n",
       "      <td>0.000000</td>\n",
       "      <td>0.000000</td>\n",
       "      <td>0.000000</td>\n",
       "      <td>0.000000</td>\n",
       "      <td>0.000000</td>\n",
       "    </tr>\n",
       "    <tr>\n",
       "      <th>25%</th>\n",
       "      <td>15470.250000</td>\n",
       "      <td>0.00000</td>\n",
       "      <td>0.000000</td>\n",
       "      <td>0.000000</td>\n",
       "      <td>0.000000</td>\n",
       "      <td>0.000000</td>\n",
       "      <td>0.000000</td>\n",
       "      <td>0.000000</td>\n",
       "      <td>0.000000</td>\n",
       "      <td>0.000000</td>\n",
       "      <td>...</td>\n",
       "      <td>0.000000</td>\n",
       "      <td>0.000000</td>\n",
       "      <td>0.000000</td>\n",
       "      <td>0.000000</td>\n",
       "      <td>0.000000</td>\n",
       "      <td>0.000000</td>\n",
       "      <td>0.000000</td>\n",
       "      <td>0.000000</td>\n",
       "      <td>0.000000</td>\n",
       "      <td>0.000000</td>\n",
       "    </tr>\n",
       "    <tr>\n",
       "      <th>50%</th>\n",
       "      <td>30939.500000</td>\n",
       "      <td>0.00000</td>\n",
       "      <td>0.000000</td>\n",
       "      <td>0.000000</td>\n",
       "      <td>0.000000</td>\n",
       "      <td>0.000000</td>\n",
       "      <td>0.000000</td>\n",
       "      <td>0.000000</td>\n",
       "      <td>0.000000</td>\n",
       "      <td>0.000000</td>\n",
       "      <td>...</td>\n",
       "      <td>0.000000</td>\n",
       "      <td>0.000000</td>\n",
       "      <td>0.000000</td>\n",
       "      <td>0.000000</td>\n",
       "      <td>0.000000</td>\n",
       "      <td>0.000000</td>\n",
       "      <td>0.000000</td>\n",
       "      <td>0.000000</td>\n",
       "      <td>0.000000</td>\n",
       "      <td>0.000000</td>\n",
       "    </tr>\n",
       "    <tr>\n",
       "      <th>75%</th>\n",
       "      <td>46408.750000</td>\n",
       "      <td>0.00000</td>\n",
       "      <td>0.000000</td>\n",
       "      <td>0.000000</td>\n",
       "      <td>0.000000</td>\n",
       "      <td>0.000000</td>\n",
       "      <td>0.000000</td>\n",
       "      <td>0.000000</td>\n",
       "      <td>1.000000</td>\n",
       "      <td>0.000000</td>\n",
       "      <td>...</td>\n",
       "      <td>0.000000</td>\n",
       "      <td>0.000000</td>\n",
       "      <td>1.000000</td>\n",
       "      <td>0.000000</td>\n",
       "      <td>1.000000</td>\n",
       "      <td>0.000000</td>\n",
       "      <td>0.000000</td>\n",
       "      <td>0.000000</td>\n",
       "      <td>0.000000</td>\n",
       "      <td>0.000000</td>\n",
       "    </tr>\n",
       "    <tr>\n",
       "      <th>max</th>\n",
       "      <td>61878.000000</td>\n",
       "      <td>61.00000</td>\n",
       "      <td>51.000000</td>\n",
       "      <td>64.000000</td>\n",
       "      <td>70.000000</td>\n",
       "      <td>19.000000</td>\n",
       "      <td>10.000000</td>\n",
       "      <td>38.000000</td>\n",
       "      <td>76.000000</td>\n",
       "      <td>43.000000</td>\n",
       "      <td>...</td>\n",
       "      <td>76.000000</td>\n",
       "      <td>55.000000</td>\n",
       "      <td>65.000000</td>\n",
       "      <td>67.000000</td>\n",
       "      <td>30.000000</td>\n",
       "      <td>61.000000</td>\n",
       "      <td>130.000000</td>\n",
       "      <td>52.000000</td>\n",
       "      <td>19.000000</td>\n",
       "      <td>87.000000</td>\n",
       "    </tr>\n",
       "  </tbody>\n",
       "</table>\n",
       "<p>8 rows × 94 columns</p>\n",
       "</div>"
      ],
      "text/plain": [
       "                 id       feat_1        feat_2        feat_3        feat_4  \\\n",
       "count  61878.000000  61878.00000  61878.000000  61878.000000  61878.000000   \n",
       "mean   30939.500000      0.38668      0.263066      0.901467      0.779081   \n",
       "std    17862.784315      1.52533      1.252073      2.934818      2.788005   \n",
       "min        1.000000      0.00000      0.000000      0.000000      0.000000   \n",
       "25%    15470.250000      0.00000      0.000000      0.000000      0.000000   \n",
       "50%    30939.500000      0.00000      0.000000      0.000000      0.000000   \n",
       "75%    46408.750000      0.00000      0.000000      0.000000      0.000000   \n",
       "max    61878.000000     61.00000     51.000000     64.000000     70.000000   \n",
       "\n",
       "             feat_5        feat_6        feat_7        feat_8        feat_9  \\\n",
       "count  61878.000000  61878.000000  61878.000000  61878.000000  61878.000000   \n",
       "mean       0.071043      0.025696      0.193704      0.662433      1.011296   \n",
       "std        0.438902      0.215333      1.030102      2.255770      3.474822   \n",
       "min        0.000000      0.000000      0.000000      0.000000      0.000000   \n",
       "25%        0.000000      0.000000      0.000000      0.000000      0.000000   \n",
       "50%        0.000000      0.000000      0.000000      0.000000      0.000000   \n",
       "75%        0.000000      0.000000      0.000000      1.000000      0.000000   \n",
       "max       19.000000     10.000000     38.000000     76.000000     43.000000   \n",
       "\n",
       "           ...            feat_84       feat_85       feat_86       feat_87  \\\n",
       "count      ...       61878.000000  61878.000000  61878.000000  61878.000000   \n",
       "mean       ...           0.070752      0.532306      1.128576      0.393549   \n",
       "std        ...           1.151460      1.900438      2.681554      1.575455   \n",
       "min        ...           0.000000      0.000000      0.000000      0.000000   \n",
       "25%        ...           0.000000      0.000000      0.000000      0.000000   \n",
       "50%        ...           0.000000      0.000000      0.000000      0.000000   \n",
       "75%        ...           0.000000      0.000000      1.000000      0.000000   \n",
       "max        ...          76.000000     55.000000     65.000000     67.000000   \n",
       "\n",
       "            feat_88       feat_89       feat_90       feat_91       feat_92  \\\n",
       "count  61878.000000  61878.000000  61878.000000  61878.000000  61878.000000   \n",
       "mean       0.874915      0.457772      0.812421      0.264941      0.380119   \n",
       "std        2.115466      1.527385      4.597804      2.045646      0.982385   \n",
       "min        0.000000      0.000000      0.000000      0.000000      0.000000   \n",
       "25%        0.000000      0.000000      0.000000      0.000000      0.000000   \n",
       "50%        0.000000      0.000000      0.000000      0.000000      0.000000   \n",
       "75%        1.000000      0.000000      0.000000      0.000000      0.000000   \n",
       "max       30.000000     61.000000    130.000000     52.000000     19.000000   \n",
       "\n",
       "            feat_93  \n",
       "count  61878.000000  \n",
       "mean       0.126135  \n",
       "std        1.201720  \n",
       "min        0.000000  \n",
       "25%        0.000000  \n",
       "50%        0.000000  \n",
       "75%        0.000000  \n",
       "max       87.000000  \n",
       "\n",
       "[8 rows x 94 columns]"
      ]
     },
     "execution_count": 3,
     "metadata": {},
     "output_type": "execute_result"
    }
   ],
   "source": [
    "train.describe()"
   ]
  },
  {
   "cell_type": "markdown",
   "metadata": {},
   "source": [
    "~62K training examples. \n",
    "\n",
    "The features are a sparse matrix, with ~75% having zero values."
   ]
  },
  {
   "cell_type": "markdown",
   "metadata": {},
   "source": [
    "## Getting the data into shape."
   ]
  },
  {
   "cell_type": "markdown",
   "metadata": {},
   "source": [
    "Seperate the features and the labels"
   ]
  },
  {
   "cell_type": "code",
   "execution_count": 4,
   "metadata": {},
   "outputs": [
    {
     "name": "stdout",
     "output_type": "stream",
     "text": [
      "X shape: (61878, 93)\n",
      "Y shape: (61878,)\n"
     ]
    }
   ],
   "source": [
    "X = train.loc[:, \"feat_1\":\"feat_93\"]\n",
    "Y = train.loc[:, \"target\"]\n",
    "print(\"X shape: \" + str(X.shape))\n",
    "print(\"Y shape: \" + str(Y.shape))"
   ]
  },
  {
   "cell_type": "markdown",
   "metadata": {},
   "source": [
    "Convert labels to one-hot encoding"
   ]
  },
  {
   "cell_type": "code",
   "execution_count": 5,
   "metadata": {},
   "outputs": [
    {
     "name": "stdout",
     "output_type": "stream",
     "text": [
      "New Y shape: (61878, 9)\n"
     ]
    }
   ],
   "source": [
    "one_hot_encoding = pd.get_dummies(Y)\n",
    "#Y = one_hot_encoding\n",
    "print(\"New Y shape: \" + str(one_hot_encoding.shape))"
   ]
  },
  {
   "cell_type": "markdown",
   "metadata": {},
   "source": [
    "Now let's randomly shuffle them, so that we'll be able to do batch gradient descent"
   ]
  },
  {
   "cell_type": "code",
   "execution_count": 6,
   "metadata": {},
   "outputs": [],
   "source": [
    "shuffle_index = np.random.permutation(train.index)\n",
    "shuffled_X = X.reindex(shuffle_index)\n",
    "shuffled_Y = Y.reindex(shuffle_index)\n",
    "shuffled_one_hot = one_hot_encoding.reindex(shuffle_index)"
   ]
  },
  {
   "cell_type": "markdown",
   "metadata": {},
   "source": [
    "Now we're ready to split them into train/test sets.\n",
    "\n",
    "I've been led to believe that 10,000 should be more than enough for testing."
   ]
  },
  {
   "cell_type": "code",
   "execution_count": 7,
   "metadata": {},
   "outputs": [
    {
     "name": "stdout",
     "output_type": "stream",
     "text": [
      "train features shape: (51878, 93)\n",
      "train labels shape: (51878, 9)\n",
      "\n",
      "test features shape: (10000, 93)\n",
      "test labels shape: (10000, 9)\n"
     ]
    }
   ],
   "source": [
    "test_size = 10000\n",
    "X_test = shuffled_X[0:test_size]\n",
    "X_train = shuffled_X[test_size:]\n",
    "Y_test = shuffled_one_hot[0:test_size]\n",
    "Y_train = shuffled_one_hot[test_size:]\n",
    "print(\"train features shape: \" + str(X_train.shape))\n",
    "print(\"train labels shape: \" + str(Y_train.shape))\n",
    "print(\"\")\n",
    "print(\"test features shape: \" + str(X_test.shape))\n",
    "print(\"test labels shape: \" + str(Y_test.shape))"
   ]
  },
  {
   "cell_type": "markdown",
   "metadata": {},
   "source": [
    "Let's normalize the inputs by dividing by max of each feature, to get them between 0 and 1.  \n",
    "(We take those from the whole X, so it's consistent for the test set as well)"
   ]
  },
  {
   "cell_type": "code",
   "execution_count": 8,
   "metadata": {},
   "outputs": [],
   "source": [
    "max_X = X.max()\n",
    "#var_X = X.var()\n",
    "X_train_normalized = X_train.div(max_X, axis = 1)\n",
    "#X_train_normalized = X_train.div(var_X, axis = 1)\n",
    "\n",
    "X_test_normalized = X_test.div(max_X, axis = 1)\n",
    "#X_test_normalized = X_test.div(var_X, axis = 1)"
   ]
  },
  {
   "cell_type": "markdown",
   "metadata": {},
   "source": [
    "## Ready for tensorflow (choose one of the models)"
   ]
  },
  {
   "cell_type": "markdown",
   "metadata": {},
   "source": [
    "### Model #1 - Logistic Regression"
   ]
  },
  {
   "cell_type": "code",
   "execution_count": 9,
   "metadata": {},
   "outputs": [],
   "source": [
    "X_batch = tf.placeholder(tf.float32, [93, None]) # 93 by mini-batch size\n",
    "Y_batch = tf.placeholder(tf.float32, [9, None])\n",
    "\n",
    "W = tf.Variable(tf.random_uniform([9, 93]) * tf.sqrt(2/138))\n",
    "b = tf.Variable(tf.random_uniform([9, 1]))\n",
    "\n",
    "Z = tf.matmul(W, X_batch) + b\n",
    "\n",
    "# we need to transpose them, to work with the cross_entropy function, so now they become of shape m * 9 instead\n",
    "Y_labels = tf.transpose(Y_batch)\n",
    "Y_logits = tf.transpose(Z)"
   ]
  },
  {
   "cell_type": "markdown",
   "metadata": {},
   "source": [
    "### Model #2 - NN, one hidden layer"
   ]
  },
  {
   "cell_type": "code",
   "execution_count": 266,
   "metadata": {},
   "outputs": [],
   "source": [
    "X_batch = tf.placeholder(tf.float32, [93, None]) # 93 by mini-batch size\n",
    "Y_batch = tf.placeholder(tf.float32, [9, None])\n",
    "\n",
    "W1 = tf.Variable(tf.random_uniform([45, 93]) * tf.sqrt(2/138))\n",
    "b1 = tf.Variable(tf.random_uniform([45, 1]))\n",
    "\n",
    "Z1 = tf.matmul(W1, X_batch) + b1\n",
    "A1 = tf.nn.relu(Z1) # 45 by mini-batch size\n",
    "\n",
    "W2 = tf.Variable(tf.random_uniform([9, 45]) * tf.sqrt(2/65))\n",
    "b2 = tf.Variable(tf.random_uniform([9, 1]))\n",
    "\n",
    "Z2 = tf.matmul(W2, A1) + b2\n",
    "\n",
    "# we need to transpose them, to work with the cross_entropy function, so now they become of shape m * 9 instead\n",
    "Y_labels = tf.transpose(Y_batch)\n",
    "Y_logits = tf.transpose(Z2)"
   ]
  },
  {
   "cell_type": "markdown",
   "metadata": {},
   "source": [
    "### Model #3 - NN, 2 hidden layers"
   ]
  },
  {
   "cell_type": "code",
   "execution_count": 13,
   "metadata": {},
   "outputs": [],
   "source": [
    "X_batch = tf.placeholder(tf.float32, [93, None]) # 93 by mini-batch size\n",
    "Y_batch = tf.placeholder(tf.float32, [9, None])\n",
    "\n",
    "W1 = tf.Variable(tf.random_uniform([45, 93]) * tf.sqrt(2/93))\n",
    "b1 = tf.Variable(tf.random_uniform([45, 1]))\n",
    "\n",
    "Z1 = tf.matmul(W1, X_batch) + b1\n",
    "A1 = tf.nn.relu(Z1) # 45 by mini-batch size\n",
    "\n",
    "W2 = tf.Variable(tf.random_uniform([20, 45]) * tf.sqrt(2/45))\n",
    "b2 = tf.Variable(tf.random_uniform([20, 1]))\n",
    "\n",
    "Z2 = tf.matmul(W2, A1) + b2\n",
    "A2 = tf.nn.relu(Z2) # 20 by mini-batch size\n",
    "\n",
    "W3 = tf.Variable(tf.random_uniform([9, 20]) * tf.sqrt(2/45))\n",
    "b3 = tf.Variable(tf.random_uniform([9, 1]))\n",
    "\n",
    "Z3 = tf.matmul(W3, A2) + b3 # 9 by mini-batch size\n",
    "\n",
    "# we need to transpose them, to work with the cross_entropy function, so now they become of shape m * 9 instead\n",
    "Y_labels = tf.transpose(Y_batch)\n",
    "Y_logits = tf.transpose(Z3)"
   ]
  },
  {
   "cell_type": "markdown",
   "metadata": {},
   "source": [
    "### For all models, setting up training and evaluation (choose appropriate regularization)"
   ]
  },
  {
   "cell_type": "code",
   "execution_count": 10,
   "metadata": {},
   "outputs": [],
   "source": [
    "# this is for training\n",
    "cross_entropy = tf.reduce_mean(tf.nn.softmax_cross_entropy_with_logits(labels=Y_labels, logits=Y_logits))\n",
    "\n",
    "# regularization...\n",
    "#lambd = .0001\n",
    "\n",
    "# for logistic regression\n",
    "#regularization = tf.nn.l2_loss(W)\n",
    "\n",
    "# for one-layer nn\n",
    "#regularization = tf.nn.l2_loss(W1) + tf.nn.l2_loss(W2)\n",
    "\n",
    "# for 2-layer nn\n",
    "#regularization = tf.nn.l2_loss(W1) + tf.nn.l2_loss(W2) + tf.nn.l2_loss(W2)\n",
    "\n",
    "#cross_entropy = cross_entropy + (regularization * lambd)\n",
    "\n",
    "# These are the predictions, and the actual labels, in a standardized form\n",
    "actual_predictions = tf.argmax(Y_logits, 1)\n",
    "actual_labels = tf.argmax(Y_labels, 1)\n",
    "\n",
    "# and this is for evaluation\n",
    "correct_prediction = tf.equal(actual_predictions, actual_labels)\n",
    "correct_prediction = tf.cast(correct_prediction, tf.float32)\n",
    "accuracy = tf.reduce_mean(correct_prediction)\n",
    "\n",
    "# need to manually evaluate loss for the test set, where we're not training\n",
    "manual_softmax = tf.nn.softmax(logits=Y_logits)\n",
    "manual_mask = tf.equal(Y_labels, 1)\n",
    "manual_cost = tf.boolean_mask(manual_softmax, manual_mask)"
   ]
  },
  {
   "cell_type": "markdown",
   "metadata": {},
   "source": [
    "## Initialize variables for the session"
   ]
  },
  {
   "cell_type": "code",
   "execution_count": 11,
   "metadata": {},
   "outputs": [],
   "source": [
    "alpha = 3\n",
    "\n",
    "#train_step = tf.train.AdamOptimizer(alpha).minimize(cross_entropy)\n",
    "train_step = tf.train.GradientDescentOptimizer(alpha).minimize(cross_entropy)\n",
    "\n",
    "session = tf.InteractiveSession()\n",
    "\n",
    "init = tf.global_variables_initializer()\n",
    "init.run()"
   ]
  },
  {
   "cell_type": "markdown",
   "metadata": {},
   "source": [
    "## Ready for training!"
   ]
  },
  {
   "cell_type": "code",
   "execution_count": 12,
   "metadata": {},
   "outputs": [],
   "source": [
    "epoch_counts = [0]\n",
    "epoch_costs = [np.mean(np.log(manual_cost.eval({X_batch: np.transpose(X_test_normalized), \n",
    "                  Y_batch: np.transpose(Y_test)})) * -1)]\n",
    "epoch_test_costs = [np.mean(np.log(manual_cost.eval({X_batch: np.transpose(X_test_normalized), \n",
    "                  Y_batch: np.transpose(Y_test)})) * -1)]\n",
    "epoch_train_accuracies = []\n",
    "epoch_test_accuracies = []\n",
    "current_epoch = 0\n",
    "\n",
    "epoch_train_accuracies.append(accuracy.eval({X_batch: np.transpose(X_train_normalized), \n",
    "                                             Y_batch: np.transpose(Y_train)}))\n",
    "epoch_test_accuracies.append(accuracy.eval({X_batch: np.transpose(X_test_normalized), \n",
    "                                            Y_batch: np.transpose(Y_test)}))\n"
   ]
  },
  {
   "cell_type": "code",
   "execution_count": 13,
   "metadata": {},
   "outputs": [
    {
     "name": "stdout",
     "output_type": "stream",
     "text": [
      "epoch #10 | train accuracy: 0.68032694 ,cost: 1.0666190019020667 | test accuracy: 0.6793 ,cost: 1.0548421\n",
      "epoch #20 | train accuracy: 0.70388216 ,cost: 0.932797820522235 | test accuracy: 0.6992 ,cost: 0.9306674\n",
      "epoch #30 | train accuracy: 0.713231 ,cost: 0.8720884380432276 | test accuracy: 0.7089 ,cost: 0.87370616\n",
      "epoch #40 | train accuracy: 0.7188018 ,cost: 0.8359915614128113 | test accuracy: 0.7146 ,cost: 0.8398199\n",
      "epoch #50 | train accuracy: 0.7227341 ,cost: 0.8114697864422431 | test accuracy: 0.7189 ,cost: 0.81681687\n",
      "epoch #60 | train accuracy: 0.7265315 ,cost: 0.7934275854092377 | test accuracy: 0.7218 ,cost: 0.79989815\n",
      "epoch #70 | train accuracy: 0.72872895 ,cost: 0.7794344058403602 | test accuracy: 0.7244 ,cost: 0.7867746\n",
      "epoch #80 | train accuracy: 0.73042524 ,cost: 0.7681700518498054 | test accuracy: 0.7257 ,cost: 0.77620476\n",
      "epoch #90 | train accuracy: 0.732295 ,cost: 0.7588482533509915 | test accuracy: 0.7277 ,cost: 0.7674508\n",
      "epoch #100 | train accuracy: 0.7337985 ,cost: 0.750967835004513 | test accuracy: 0.7294 ,cost: 0.7600434\n",
      "epoch #110 | train accuracy: 0.7356105 ,cost: 0.7441919010419112 | test accuracy: 0.7304 ,cost: 0.7536671\n",
      "epoch #120 | train accuracy: 0.7368827 ,cost: 0.7382845775439189 | test accuracy: 0.7314 ,cost: 0.74810165\n",
      "epoch #130 | train accuracy: 0.7379429 ,cost: 0.7330749069268887 | test accuracy: 0.7323 ,cost: 0.74318755\n",
      "epoch #140 | train accuracy: 0.7389645 ,cost: 0.7284355484522306 | test accuracy: 0.7332 ,cost: 0.738806\n",
      "epoch #150 | train accuracy: 0.74006325 ,cost: 0.7242695265091382 | test accuracy: 0.7338 ,cost: 0.7348666\n",
      "epoch #160 | train accuracy: 0.7409692 ,cost: 0.7205014549768888 | test accuracy: 0.735 ,cost: 0.73129934\n",
      "epoch #170 | train accuracy: 0.74164385 ,cost: 0.7170716707523053 | test accuracy: 0.7366 ,cost: 0.7280486\n",
      "epoch #180 | train accuracy: 0.74222213 ,cost: 0.7139323972738706 | test accuracy: 0.7373 ,cost: 0.72507\n",
      "epoch #190 | train accuracy: 0.7430124 ,cost: 0.7110447528270575 | test accuracy: 0.7369 ,cost: 0.72232735\n",
      "epoch #200 | train accuracy: 0.7441112 ,cost: 0.708376774421105 | test accuracy: 0.7377 ,cost: 0.71979094\n",
      "epoch #210 | train accuracy: 0.744863 ,cost: 0.7059020205185964 | test accuracy: 0.7381 ,cost: 0.717436\n",
      "epoch #220 | train accuracy: 0.7454412 ,cost: 0.703598134792768 | test accuracy: 0.7386 ,cost: 0.71524197\n",
      "epoch #230 | train accuracy: 0.74617374 ,cost: 0.7014463864839994 | test accuracy: 0.7395 ,cost: 0.71319133\n",
      "epoch #240 | train accuracy: 0.7466749 ,cost: 0.6994307740376546 | test accuracy: 0.7397 ,cost: 0.7112692\n",
      "epoch #250 | train accuracy: 0.7469447 ,cost: 0.6975374852235501 | test accuracy: 0.7403 ,cost: 0.70946264\n",
      "epoch #260 | train accuracy: 0.747311 ,cost: 0.6957546827884821 | test accuracy: 0.7405 ,cost: 0.7077609\n",
      "epoch #270 | train accuracy: 0.7476387 ,cost: 0.69407213307344 | test accuracy: 0.7411 ,cost: 0.7061541\n",
      "epoch #280 | train accuracy: 0.7481013 ,cost: 0.6924807142752868 | test accuracy: 0.7418 ,cost: 0.7046341\n",
      "epoch #290 | train accuracy: 0.748429 ,cost: 0.690972660596554 | test accuracy: 0.7426 ,cost: 0.70319325\n",
      "epoch #300 | train accuracy: 0.7489687 ,cost: 0.6895408790845138 | test accuracy: 0.7435 ,cost: 0.7018253\n",
      "epoch #310 | train accuracy: 0.7493928 ,cost: 0.6881792694330215 | test accuracy: 0.7442 ,cost: 0.70052433\n",
      "epoch #320 | train accuracy: 0.7496627 ,cost: 0.6868823411372992 | test accuracy: 0.7445 ,cost: 0.6992853\n",
      "epoch #330 | train accuracy: 0.7499325 ,cost: 0.6856451011621035 | test accuracy: 0.7448 ,cost: 0.69810367\n",
      "epoch #340 | train accuracy: 0.75022167 ,cost: 0.6844632545342813 | test accuracy: 0.7447 ,cost: 0.6969752\n",
      "epoch #350 | train accuracy: 0.7505494 ,cost: 0.6833327802327963 | test accuracy: 0.7448 ,cost: 0.6958962\n",
      "epoch #360 | train accuracy: 0.75089633 ,cost: 0.6822501524136617 | test accuracy: 0.745 ,cost: 0.6948634\n",
      "epoch #370 | train accuracy: 0.7512433 ,cost: 0.6812120641653354 | test accuracy: 0.745 ,cost: 0.6938737\n",
      "epoch #380 | train accuracy: 0.75159025 ,cost: 0.6802156705122727 | test accuracy: 0.7454 ,cost: 0.6929243\n",
      "epoch #390 | train accuracy: 0.7520529 ,cost: 0.6792582021309779 | test accuracy: 0.746 ,cost: 0.6920128\n",
      "epoch #400 | train accuracy: 0.7524191 ,cost: 0.6783372805668757 | test accuracy: 0.7464 ,cost: 0.6911368\n",
      "epoch #410 | train accuracy: 0.75266975 ,cost: 0.6774506866931915 | test accuracy: 0.7472 ,cost: 0.69029415\n",
      "epoch #420 | train accuracy: 0.75280464 ,cost: 0.6765962976675767 | test accuracy: 0.7479 ,cost: 0.689483\n",
      "epoch #430 | train accuracy: 0.75319016 ,cost: 0.6757723333743902 | test accuracy: 0.748 ,cost: 0.68870145\n",
      "epoch #440 | train accuracy: 0.75340223 ,cost: 0.6749769965043435 | test accuracy: 0.7479 ,cost: 0.6879479\n",
      "epoch #450 | train accuracy: 0.75346005 ,cost: 0.6742087075343499 | test accuracy: 0.748 ,cost: 0.6872209\n"
     ]
    }
   ],
   "source": [
    "batch_size = 1000\n",
    "batches_in_epoch = int(X_train.shape[0] / batch_size)\n",
    "remainder = X_train.shape[0] % batch_size\n",
    "train_epochs = 450 # should be enough, see where the peek is, then rerun that amount\n",
    "\n",
    "\n",
    "batch_start = 0\n",
    "\n",
    "for i in range(train_epochs):\n",
    "    current_epoch += 1 # one-index based\n",
    "\n",
    "    step_cost = []\n",
    "    # train on the batches\n",
    "    for j in range(batches_in_epoch):\n",
    "        batch_start = j * batch_size\n",
    "        batch_end = batch_start + batch_size\n",
    "        _, iter_cost = session.run([train_step, cross_entropy], \n",
    "                                   {X_batch: np.transpose(X_train_normalized.iloc[batch_start:batch_end]), \n",
    "                                    Y_batch: np.transpose(Y_train.iloc[batch_start:batch_end])})\n",
    "        step_cost.append(iter_cost)\n",
    "\n",
    "            \n",
    "    # train on the remainder\n",
    "    batch_start = batches_in_epoch * batch_size\n",
    "    _, iter_cost = session.run([train_step, cross_entropy], \n",
    "                               {X_batch: np.transpose(X_train_normalized.iloc[batch_start:]), \n",
    "                                Y_batch: np.transpose(Y_train.iloc[batch_start:])})\n",
    "    step_cost.append(iter_cost)\n",
    "\n",
    "    # save the cost and accuracy for plotting every 10 epochs\n",
    "    if current_epoch % 10 == 0:\n",
    "        epoch_counts.append(current_epoch)\n",
    "        epoch_train_accuracies.append(accuracy.eval({X_batch: np.transpose(X_train_normalized), \n",
    "                                                     Y_batch: np.transpose(Y_train)}))\n",
    "        epoch_test_accuracies.append(accuracy.eval({X_batch: np.transpose(X_test_normalized), \n",
    "                                                     Y_batch: np.transpose(Y_test)}))\n",
    "        epoch_costs.append(sum(step_cost) / float(len(step_cost)))\n",
    "        epoch_test_costs.append(np.mean(np.log(manual_cost.eval({X_batch: np.transpose(X_test_normalized), \n",
    "                  Y_batch: np.transpose(Y_test)})) * -1))\n",
    "        print(\"epoch #\" + str(current_epoch), \n",
    "              \"| train accuracy: \" + str(epoch_train_accuracies[-1]), \",cost: \" + str(epoch_costs[-1]),\n",
    "              \"| test accuracy: \" + str(epoch_test_accuracies[-1]), \",cost: \" + str(epoch_test_costs[-1]))"
   ]
  },
  {
   "cell_type": "code",
   "execution_count": 14,
   "metadata": {},
   "outputs": [
    {
     "name": "stdout",
     "output_type": "stream",
     "text": [
      "final train accuracy after 450 epochs is: 0.7534600496292114\n",
      "final test accuracy after 450 epochs is: 0.7480000257492065\n",
      "final train cost after 450 epochs is: 0.6742087075343499\n",
      "final test cost after 450 epochs is: 0.6872208714485168\n"
     ]
    },
    {
     "data": {
      "image/png": "[encoded data removed]",
      "text/plain": [
       "<matplotlib.figure.Figure at 0x189dfce56a0>"
      ]
     },
     "metadata": {},
     "output_type": "display_data"
    }
   ],
   "source": [
    "import matplotlib.pyplot as plt\n",
    "epoch_start = 0\n",
    "epoch_end = len(epoch_test_accuracies)\n",
    "plt.plot(epoch_counts[epoch_start:], epoch_train_accuracies[epoch_start:], \"b\",\n",
    "         epoch_counts[epoch_start:], epoch_test_accuracies[epoch_start:], \"r\")\n",
    "print(\"final train accuracy after {} epochs is: {}\".format(epoch_counts[-1], epoch_train_accuracies[-1]))\n",
    "print(\"final test accuracy after {} epochs is: {}\".format(epoch_counts[-1], epoch_test_accuracies[-1]))\n",
    "print(\"final train cost after {} epochs is: {}\".format(epoch_counts[-1], epoch_costs[-1]))\n",
    "print(\"final test cost after {} epochs is: {}\".format(epoch_counts[-1], epoch_test_costs[-1]))"
   ]
  },
  {
   "cell_type": "markdown",
   "metadata": {},
   "source": [
    "### Let's try some feature engineering"
   ]
  },
  {
   "cell_type": "markdown",
   "metadata": {},
   "source": [
    "These are black box features, hard to engineer.\n",
    "\n",
    "Still, some ideas...\n",
    "* get most important features, and create new features of the difference between them (would think that it doesn't add much for neural nets, that could learn linear features, but saw from someone that it's helpful.\n",
    "* binary features of whether feature is 0 or not.\n",
    "* binary features of whether combination of correlated features are present\n",
    "* binning values.\n",
    "* Saw that XGboost can be used to find new features."
   ]
  },
  {
   "cell_type": "markdown",
   "metadata": {},
   "source": [
    "### let's use scikit to do logistic regression, and get the most important features. Maybe..."
   ]
  },
  {
   "cell_type": "code",
   "execution_count": 329,
   "metadata": {},
   "outputs": [],
   "source": [
    "import sklearn.linear_model"
   ]
  },
  {
   "cell_type": "code",
   "execution_count": 330,
   "metadata": {},
   "outputs": [],
   "source": [
    "log_model = sklearn.linear_model.LogisticRegression()"
   ]
  },
  {
   "cell_type": "code",
   "execution_count": 331,
   "metadata": {},
   "outputs": [
    {
     "data": {
      "text/plain": [
       "(51878,)"
      ]
     },
     "execution_count": 331,
     "metadata": {},
     "output_type": "execute_result"
    }
   ],
   "source": [
    "Y_train_singlecol = Y_train.idxmax(axis = 1)\n",
    "Y_train_singlecol.shape"
   ]
  },
  {
   "cell_type": "code",
   "execution_count": 332,
   "metadata": {},
   "outputs": [
    {
     "data": {
      "text/plain": [
       "LogisticRegression(C=1.0, class_weight=None, dual=False, fit_intercept=True,\n",
       "          intercept_scaling=1, max_iter=100, multi_class='ovr', n_jobs=1,\n",
       "          penalty='l2', random_state=None, solver='liblinear', tol=0.0001,\n",
       "          verbose=0, warm_start=False)"
      ]
     },
     "execution_count": 332,
     "metadata": {},
     "output_type": "execute_result"
    }
   ],
   "source": [
    "log_model.fit(X_train_normalized, Y_train_singlecol)"
   ]
  },
  {
   "cell_type": "code",
   "execution_count": 335,
   "metadata": {},
   "outputs": [
    {
     "name": "stdout",
     "output_type": "stream",
     "text": [
      "score is: 0.729731292648136\n"
     ]
    }
   ],
   "source": [
    "score = log_model.score(X_train_normalized, Y_train_singlecol)\n",
    "print(\"score is: {}\".format(score))\n",
    "coef = log_model.coef_[0]"
   ]
  },
  {
   "cell_type": "code",
   "execution_count": 336,
   "metadata": {},
   "outputs": [
    {
     "data": {
      "text/plain": [
       "93"
      ]
     },
     "execution_count": 336,
     "metadata": {},
     "output_type": "execute_result"
    }
   ],
   "source": [
    "coef_copy = coef\n",
    "len(coef_copy)"
   ]
  },
  {
   "cell_type": "code",
   "execution_count": 337,
   "metadata": {},
   "outputs": [
    {
     "data": {
      "text/plain": [
       "array([33, 10, 24, 13, 39, 16,  8, 14, 68, 66], dtype=int64)"
      ]
     },
     "execution_count": 337,
     "metadata": {},
     "output_type": "execute_result"
    }
   ],
   "source": [
    "sort_index = (abs(coef_copy) * -1).argsort()\n",
    "best_features = sort_index[0:10]\n",
    "best_features"
   ]
  },
  {
   "cell_type": "markdown",
   "metadata": {},
   "source": [
    "so the most relevant features are the ones above.  \n",
    "let's make tuples of pairs of each of those, which will be a total of (10 * 9) / 2"
   ]
  },
  {
   "cell_type": "code",
   "execution_count": 338,
   "metadata": {},
   "outputs": [
    {
     "data": {
      "text/plain": [
       "45"
      ]
     },
     "execution_count": 338,
     "metadata": {},
     "output_type": "execute_result"
    }
   ],
   "source": [
    "feature_pairs = []\n",
    "for i in range(len(best_features)):\n",
    "    for j in range(i+1, len(best_features)):\n",
    "        feature_pairs.append((best_features[i], best_features[j]))\n",
    "len(feature_pairs)"
   ]
  },
  {
   "cell_type": "markdown",
   "metadata": {},
   "source": [
    "For each of those pairs, let's make a new feature which is the difference between them.  \n",
    "We'll do it on the original pandas X dataframes, X_train and X_test"
   ]
  },
  {
   "cell_type": "code",
   "execution_count": 339,
   "metadata": {},
   "outputs": [],
   "source": [
    "engineered_X_train = X_train.copy()\n",
    "engineered_X_test = X_test.copy()\n",
    "\n",
    "feature_names = list(X_train)\n",
    "for feature_1, feature_2 in feature_pairs:\n",
    "    new_feature_name = feature_names[feature_1] + \" - \" + feature_names[feature_2] \n",
    "    engineered_X_train[new_feature_name] = engineered_X_train.iloc[:,feature_1] - engineered_X_train.iloc[:,feature_2]\n",
    "    \n",
    "for feature_1, feature_2 in feature_pairs:\n",
    "    new_feature_name = feature_names[feature_1] + \" - \" + feature_names[feature_2] \n",
    "    engineered_X_test[new_feature_name] = engineered_X_test.iloc[:,feature_1] - engineered_X_test.iloc[:,feature_2]\n"
   ]
  },
  {
   "cell_type": "markdown",
   "metadata": {},
   "source": [
    "It's a sparse matrix, so questionable how many of those features will be meaningful"
   ]
  },
  {
   "cell_type": "markdown",
   "metadata": {},
   "source": [
    "merge the groups for a total of X, for normalizing"
   ]
  },
  {
   "cell_type": "code",
   "execution_count": 343,
   "metadata": {
    "scrolled": true
   },
   "outputs": [],
   "source": [
    "engineered_X = engineered_X_test.append(engineered_X_train)\n",
    "max_engineered_X = engineered_X.max()\n",
    "engineered_X_train_normalized = engineered_X_train.div(max_engineered_X, axis = 1)\n",
    "engineered_X_test_normalized = engineered_X_test.div(max_engineered_X, axis = 1)"
   ]
  },
  {
   "cell_type": "markdown",
   "metadata": {},
   "source": [
    "Now let's plug these values in to the non-engineered variables, so we can run the previous code on them.\n",
    "The only thing we need to change in the previous code when we run it is that instead of 93, we put in 93+45 = 138"
   ]
  },
  {
   "cell_type": "code",
   "execution_count": 344,
   "metadata": {},
   "outputs": [],
   "source": [
    "X_train_normalized = engineered_X_train_normalized\n",
    "X_test_normalized = engineered_X_test_normalized"
   ]
  },
  {
   "cell_type": "markdown",
   "metadata": {},
   "source": [
    "Ok, go back up there and run things again (change the weight placeholder shapes from 93 to 138 etc.)\n",
    "\n",
    "Result: No improvement - actually descreased performance."
   ]
  },
  {
   "cell_type": "markdown",
   "metadata": {},
   "source": [
    "## Manual Analysis\n",
    "\n",
    "### Ok, now let's try doing manual logistic regression, and analyze the results to isolate where to focus in feature engineering"
   ]
  },
  {
   "cell_type": "markdown",
   "metadata": {},
   "source": [
    "Ran manual logistic regression, using code above (gradientDescentOptimizer, no regularization, alpha=3, 500 epochs), until we got to ~.75 accuracy on the test set.\n",
    "\n",
    "Let's build datasets for analysis.  \n",
    "Let's make a dataset with three columns - prediction, actual labels, and whether prediction was correct"
   ]
  },
  {
   "cell_type": "code",
   "execution_count": 15,
   "metadata": {},
   "outputs": [],
   "source": [
    "prediction_metrics = pd.DataFrame(data = actual_predictions.eval({X_batch: np.transpose(X_test_normalized)}), \n",
    "                                  columns = [\"predictions\"])\n",
    "prediction_metrics[\"labels\"] = pd.Series(actual_labels.eval({Y_batch: np.transpose(Y_test)}))\n",
    "prediction_metrics[\"correct_prediction\"] = prediction_metrics[\"predictions\"] == prediction_metrics[\"labels\"]\n",
    "#prediction_metrics[~prediction_metrics[\"correct_prediction\"]]"
   ]
  },
  {
   "cell_type": "markdown",
   "metadata": {},
   "source": [
    "Now, let's join them to the X_test_normalized dataset  \n",
    "\n",
    "For that, we need to reset the index for X_test_normalized, and then join them on the index"
   ]
  },
  {
   "cell_type": "code",
   "execution_count": 16,
   "metadata": {},
   "outputs": [],
   "source": [
    "X_test_normalized = X_test_normalized.reset_index()"
   ]
  },
  {
   "cell_type": "code",
   "execution_count": 17,
   "metadata": {},
   "outputs": [],
   "source": [
    "X_test_analysis = pd.concat([X_test_normalized, prediction_metrics], axis=1, join_axes=[X_test_normalized.index])"
   ]
  },
  {
   "cell_type": "markdown",
   "metadata": {},
   "source": [
    "Remove the index row - not needed"
   ]
  },
  {
   "cell_type": "code",
   "execution_count": 18,
   "metadata": {},
   "outputs": [],
   "source": [
    "X_test_analysis = X_test_analysis.drop(['index'], axis = 1)"
   ]
  },
  {
   "cell_type": "markdown",
   "metadata": {},
   "source": [
    "let's make a simple bar plot of the different classes in:  \n",
    "1. the entire test group\n",
    "2. the group where it was predicted incorrectly"
   ]
  },
  {
   "cell_type": "code",
   "execution_count": 19,
   "metadata": {},
   "outputs": [
    {
     "data": {
      "text/plain": [
       "<matplotlib.axes._subplots.AxesSubplot at 0x189dfce4e80>"
      ]
     },
     "execution_count": 19,
     "metadata": {},
     "output_type": "execute_result"
    },
    {
     "data": {
      "image/png": "[encoded data removed]",
      "text/plain": [
       "<matplotlib.figure.Figure at 0x189e01c0e80>"
      ]
     },
     "metadata": {},
     "output_type": "display_data"
    }
   ],
   "source": [
    "numbers_order = [i for i in range(9)]\n",
    "X_test_analysis[\"labels\"].value_counts().loc[numbers_order].plot(kind=\"bar\", title = \"Counts of Instances by Class\")"
   ]
  },
  {
   "cell_type": "code",
   "execution_count": 20,
   "metadata": {
    "scrolled": true
   },
   "outputs": [
    {
     "data": {
      "text/plain": [
       "<matplotlib.axes._subplots.AxesSubplot at 0x189e04f05c0>"
      ]
     },
     "execution_count": 20,
     "metadata": {},
     "output_type": "execute_result"
    },
    {
     "data": {
      "image/png": "[encoded data removed]",
      "text/plain": [
       "<matplotlib.figure.Figure at 0x189e04c8128>"
      ]
     },
     "metadata": {},
     "output_type": "display_data"
    }
   ],
   "source": [
    "X_test_analysis[~X_test_analysis[\"correct_prediction\"]][\"labels\"].value_counts().loc[numbers_order].plot(kind=\"bar\",\n",
    "                                                                title = \"Counts of Incorrect Classification Instances by Class\")"
   ]
  },
  {
   "cell_type": "markdown",
   "metadata": {},
   "source": [
    "Seems like the classes are really skewed!  \n",
    "Makes it hard to interpret the incorrect classification counts.  \n",
    "\n",
    "Let's standardize them, and look at the percentage of instances that were incorrectly classified."
   ]
  },
  {
   "cell_type": "code",
   "execution_count": 21,
   "metadata": {
    "scrolled": true
   },
   "outputs": [
    {
     "data": {
      "text/plain": [
       "<matplotlib.axes._subplots.AxesSubplot at 0x189eb287048>"
      ]
     },
     "execution_count": 21,
     "metadata": {},
     "output_type": "execute_result"
    },
    {
     "data": {
      "image/png": "[encoded data removed]",
      "text/plain": [
       "<matplotlib.figure.Figure at 0x189eb27e748>"
      ]
     },
     "metadata": {},
     "output_type": "display_data"
    }
   ],
   "source": [
    "total_counts = X_test_analysis[\"labels\"].value_counts().loc[numbers_order]\n",
    "incorrect_counts = X_test_analysis[~X_test_analysis[\"correct_prediction\"]][\"labels\"].value_counts().loc[numbers_order]\n",
    "incorrect_percentages = incorrect_counts / total_counts\n",
    "incorrect_plot = (incorrect_percentages * 100).plot(kind=\"bar\", title = \"Percentage of Incorrect Classification Instances by Class\")\n",
    "incorrect_plot.set_yticklabels([str(i) + \"%\" for i in range(0,100,10)])\n",
    "incorrect_plot"
   ]
  },
  {
   "cell_type": "markdown",
   "metadata": {},
   "source": [
    "Clearly, classes 1, 3 and 4 are the most misclassified (~80%), with class 7 somewhat less (~50%).  \n",
    "\n",
    "Of those, class 3 misclassification has the biggest effect on the bottom line, because it is a common class, so it makes sense to begin our focus on feature engineering there.\n",
    "\n",
    "Classes 1, 4 and 7 are all infrequent classes, which suggests that perhaps we've \"underlearnt\" for those classes.  \n",
    "Perhaps the algorithm gave more preference to getting correct predictions for other, more common classes.\n",
    "\n",
    "Let's see which class labels the algorithm provides for the misclassified instances."
   ]
  },
  {
   "cell_type": "code",
   "execution_count": 22,
   "metadata": {
    "scrolled": true
   },
   "outputs": [
    {
     "data": {
      "text/plain": [
       "<matplotlib.axes._subplots.AxesSubplot at 0x189eb2f4048>"
      ]
     },
     "execution_count": 22,
     "metadata": {},
     "output_type": "execute_result"
    },
    {
     "data": {
      "image/png": "[encoded data removed]",
      "text/plain": [
       "<matplotlib.figure.Figure at 0x189e04c84a8>"
      ]
     },
     "metadata": {},
     "output_type": "display_data"
    }
   ],
   "source": [
    "X_test_analysis[~X_test_analysis[\"correct_prediction\"]][\"predictions\"].value_counts().loc[numbers_order].plot(kind=\"bar\",\n",
    "                                                            title = \"Class Prediction counts for Misclassified Instances\")"
   ]
  },
  {
   "cell_type": "markdown",
   "metadata": {},
   "source": [
    "The vast majority are classified as class_2, which is the most frequently occuring class."
   ]
  },
  {
   "cell_type": "markdown",
   "metadata": {},
   "source": [
    "#### In summary:\n",
    "1. The model is leaning excessively towards class_2, because there are so many instances of it - practically all the mislabeled instances.\n",
    "2. Conversely, it's performing poorly for several uncommonly occurring classes, namely: 1, 4 and 7.\n",
    "3. It's performing poorly for class_3, despite it being a commonly occuring class, and this has a bigger effect on the general accuracy of the model.\n",
    "4. It would seem that class_3 is hard to learn, or at least hard to differentiate from class_2.\n",
    "\n",
    "####  A few ideas:\n",
    "1. Let's try training the model without the instances of class_2, and see if accuracy improves for class_3.\n",
    "2. Let's analyze the weights for class_2 and class_3 prediction (including the weights in class_3 prediction when training without class_2 instances), to see where there's an overlap, and see if feature-engineering on those features can improve accuracy for class_3."
   ]
  }
 ],
 "metadata": {
  "kernelspec": {
   "display_name": "Python 3",
   "language": "python",
   "name": "python3"
  },
  "language_info": {
   "codemirror_mode": {
    "name": "ipython",
    "version": 3
   },
   "file_extension": ".py",
   "mimetype": "text/x-python",
   "name": "python",
   "nbconvert_exporter": "python",
   "pygments_lexer": "ipython3",
   "version": "3.6.4"
  }
 },
 "nbformat": 4,
 "nbformat_minor": 2
}
