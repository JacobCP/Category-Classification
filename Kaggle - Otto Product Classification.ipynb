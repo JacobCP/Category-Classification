{
 "cells": [
  {
   "cell_type": "markdown",
   "metadata": {},
   "source": [
    "### Final results: using alpha = .01, lambda = .0001"
   ]
  },
  {
   "cell_type": "markdown",
   "metadata": {},
   "source": [
    "    Logistic regression: test accuracy ~.75, test cost ~.68\n",
    "    \n",
    "    NN - one hidden layer:\n",
    "        early stopping: test accuracy ~.79, test cost ~.55\n",
    "        \n",
    "    NN - two hidden layers:\n",
    "        early stopping: test accuracy ~.79 , test cost ~.54\n",
    "        regularization and early stopping: test accuracy ~.8, test cost ~.53       \n",
    "        \n",
    "    "
   ]
  },
  {
   "cell_type": "code",
   "execution_count": 62,
   "metadata": {},
   "outputs": [],
   "source": [
    "import numpy as np\n",
    "import pandas as pd\n",
    "import tensorflow as tf\n",
    "import matplotlib.pyplot as plt"
   ]
  },
  {
   "cell_type": "code",
   "execution_count": 63,
   "metadata": {},
   "outputs": [],
   "source": [
    "train = pd.read_csv(\"train.csv\")"
   ]
  },
  {
   "cell_type": "markdown",
   "metadata": {},
   "source": [
    "Let's have a look...."
   ]
  },
  {
   "cell_type": "code",
   "execution_count": 64,
   "metadata": {
    "scrolled": true
   },
   "outputs": [
    {
     "data": {
      "text/html": [
       "<div>\n",
       "<style scoped>\n",
       "    .dataframe tbody tr th:only-of-type {\n",
       "        vertical-align: middle;\n",
       "    }\n",
       "\n",
       "    .dataframe tbody tr th {\n",
       "        vertical-align: top;\n",
       "    }\n",
       "\n",
       "    .dataframe thead th {\n",
       "        text-align: right;\n",
       "    }\n",
       "</style>\n",
       "<table border=\"1\" class=\"dataframe\">\n",
       "  <thead>\n",
       "    <tr style=\"text-align: right;\">\n",
       "      <th></th>\n",
       "      <th>id</th>\n",
       "      <th>feat_1</th>\n",
       "      <th>feat_2</th>\n",
       "      <th>feat_3</th>\n",
       "      <th>feat_4</th>\n",
       "      <th>feat_5</th>\n",
       "      <th>feat_6</th>\n",
       "      <th>feat_7</th>\n",
       "      <th>feat_8</th>\n",
       "      <th>feat_9</th>\n",
       "      <th>...</th>\n",
       "      <th>feat_84</th>\n",
       "      <th>feat_85</th>\n",
       "      <th>feat_86</th>\n",
       "      <th>feat_87</th>\n",
       "      <th>feat_88</th>\n",
       "      <th>feat_89</th>\n",
       "      <th>feat_90</th>\n",
       "      <th>feat_91</th>\n",
       "      <th>feat_92</th>\n",
       "      <th>feat_93</th>\n",
       "    </tr>\n",
       "  </thead>\n",
       "  <tbody>\n",
       "    <tr>\n",
       "      <th>count</th>\n",
       "      <td>61878.000000</td>\n",
       "      <td>61878.00000</td>\n",
       "      <td>61878.000000</td>\n",
       "      <td>61878.000000</td>\n",
       "      <td>61878.000000</td>\n",
       "      <td>61878.000000</td>\n",
       "      <td>61878.000000</td>\n",
       "      <td>61878.000000</td>\n",
       "      <td>61878.000000</td>\n",
       "      <td>61878.000000</td>\n",
       "      <td>...</td>\n",
       "      <td>61878.000000</td>\n",
       "      <td>61878.000000</td>\n",
       "      <td>61878.000000</td>\n",
       "      <td>61878.000000</td>\n",
       "      <td>61878.000000</td>\n",
       "      <td>61878.000000</td>\n",
       "      <td>61878.000000</td>\n",
       "      <td>61878.000000</td>\n",
       "      <td>61878.000000</td>\n",
       "      <td>61878.000000</td>\n",
       "    </tr>\n",
       "    <tr>\n",
       "      <th>mean</th>\n",
       "      <td>30939.500000</td>\n",
       "      <td>0.38668</td>\n",
       "      <td>0.263066</td>\n",
       "      <td>0.901467</td>\n",
       "      <td>0.779081</td>\n",
       "      <td>0.071043</td>\n",
       "      <td>0.025696</td>\n",
       "      <td>0.193704</td>\n",
       "      <td>0.662433</td>\n",
       "      <td>1.011296</td>\n",
       "      <td>...</td>\n",
       "      <td>0.070752</td>\n",
       "      <td>0.532306</td>\n",
       "      <td>1.128576</td>\n",
       "      <td>0.393549</td>\n",
       "      <td>0.874915</td>\n",
       "      <td>0.457772</td>\n",
       "      <td>0.812421</td>\n",
       "      <td>0.264941</td>\n",
       "      <td>0.380119</td>\n",
       "      <td>0.126135</td>\n",
       "    </tr>\n",
       "    <tr>\n",
       "      <th>std</th>\n",
       "      <td>17862.784315</td>\n",
       "      <td>1.52533</td>\n",
       "      <td>1.252073</td>\n",
       "      <td>2.934818</td>\n",
       "      <td>2.788005</td>\n",
       "      <td>0.438902</td>\n",
       "      <td>0.215333</td>\n",
       "      <td>1.030102</td>\n",
       "      <td>2.255770</td>\n",
       "      <td>3.474822</td>\n",
       "      <td>...</td>\n",
       "      <td>1.151460</td>\n",
       "      <td>1.900438</td>\n",
       "      <td>2.681554</td>\n",
       "      <td>1.575455</td>\n",
       "      <td>2.115466</td>\n",
       "      <td>1.527385</td>\n",
       "      <td>4.597804</td>\n",
       "      <td>2.045646</td>\n",
       "      <td>0.982385</td>\n",
       "      <td>1.201720</td>\n",
       "    </tr>\n",
       "    <tr>\n",
       "      <th>min</th>\n",
       "      <td>1.000000</td>\n",
       "      <td>0.00000</td>\n",
       "      <td>0.000000</td>\n",
       "      <td>0.000000</td>\n",
       "      <td>0.000000</td>\n",
       "      <td>0.000000</td>\n",
       "      <td>0.000000</td>\n",
       "      <td>0.000000</td>\n",
       "      <td>0.000000</td>\n",
       "      <td>0.000000</td>\n",
       "      <td>...</td>\n",
       "      <td>0.000000</td>\n",
       "      <td>0.000000</td>\n",
       "      <td>0.000000</td>\n",
       "      <td>0.000000</td>\n",
       "      <td>0.000000</td>\n",
       "      <td>0.000000</td>\n",
       "      <td>0.000000</td>\n",
       "      <td>0.000000</td>\n",
       "      <td>0.000000</td>\n",
       "      <td>0.000000</td>\n",
       "    </tr>\n",
       "    <tr>\n",
       "      <th>25%</th>\n",
       "      <td>15470.250000</td>\n",
       "      <td>0.00000</td>\n",
       "      <td>0.000000</td>\n",
       "      <td>0.000000</td>\n",
       "      <td>0.000000</td>\n",
       "      <td>0.000000</td>\n",
       "      <td>0.000000</td>\n",
       "      <td>0.000000</td>\n",
       "      <td>0.000000</td>\n",
       "      <td>0.000000</td>\n",
       "      <td>...</td>\n",
       "      <td>0.000000</td>\n",
       "      <td>0.000000</td>\n",
       "      <td>0.000000</td>\n",
       "      <td>0.000000</td>\n",
       "      <td>0.000000</td>\n",
       "      <td>0.000000</td>\n",
       "      <td>0.000000</td>\n",
       "      <td>0.000000</td>\n",
       "      <td>0.000000</td>\n",
       "      <td>0.000000</td>\n",
       "    </tr>\n",
       "    <tr>\n",
       "      <th>50%</th>\n",
       "      <td>30939.500000</td>\n",
       "      <td>0.00000</td>\n",
       "      <td>0.000000</td>\n",
       "      <td>0.000000</td>\n",
       "      <td>0.000000</td>\n",
       "      <td>0.000000</td>\n",
       "      <td>0.000000</td>\n",
       "      <td>0.000000</td>\n",
       "      <td>0.000000</td>\n",
       "      <td>0.000000</td>\n",
       "      <td>...</td>\n",
       "      <td>0.000000</td>\n",
       "      <td>0.000000</td>\n",
       "      <td>0.000000</td>\n",
       "      <td>0.000000</td>\n",
       "      <td>0.000000</td>\n",
       "      <td>0.000000</td>\n",
       "      <td>0.000000</td>\n",
       "      <td>0.000000</td>\n",
       "      <td>0.000000</td>\n",
       "      <td>0.000000</td>\n",
       "    </tr>\n",
       "    <tr>\n",
       "      <th>75%</th>\n",
       "      <td>46408.750000</td>\n",
       "      <td>0.00000</td>\n",
       "      <td>0.000000</td>\n",
       "      <td>0.000000</td>\n",
       "      <td>0.000000</td>\n",
       "      <td>0.000000</td>\n",
       "      <td>0.000000</td>\n",
       "      <td>0.000000</td>\n",
       "      <td>1.000000</td>\n",
       "      <td>0.000000</td>\n",
       "      <td>...</td>\n",
       "      <td>0.000000</td>\n",
       "      <td>0.000000</td>\n",
       "      <td>1.000000</td>\n",
       "      <td>0.000000</td>\n",
       "      <td>1.000000</td>\n",
       "      <td>0.000000</td>\n",
       "      <td>0.000000</td>\n",
       "      <td>0.000000</td>\n",
       "      <td>0.000000</td>\n",
       "      <td>0.000000</td>\n",
       "    </tr>\n",
       "    <tr>\n",
       "      <th>max</th>\n",
       "      <td>61878.000000</td>\n",
       "      <td>61.00000</td>\n",
       "      <td>51.000000</td>\n",
       "      <td>64.000000</td>\n",
       "      <td>70.000000</td>\n",
       "      <td>19.000000</td>\n",
       "      <td>10.000000</td>\n",
       "      <td>38.000000</td>\n",
       "      <td>76.000000</td>\n",
       "      <td>43.000000</td>\n",
       "      <td>...</td>\n",
       "      <td>76.000000</td>\n",
       "      <td>55.000000</td>\n",
       "      <td>65.000000</td>\n",
       "      <td>67.000000</td>\n",
       "      <td>30.000000</td>\n",
       "      <td>61.000000</td>\n",
       "      <td>130.000000</td>\n",
       "      <td>52.000000</td>\n",
       "      <td>19.000000</td>\n",
       "      <td>87.000000</td>\n",
       "    </tr>\n",
       "  </tbody>\n",
       "</table>\n",
       "<p>8 rows × 94 columns</p>\n",
       "</div>"
      ],
      "text/plain": [
       "                 id       feat_1        feat_2        feat_3        feat_4  \\\n",
       "count  61878.000000  61878.00000  61878.000000  61878.000000  61878.000000   \n",
       "mean   30939.500000      0.38668      0.263066      0.901467      0.779081   \n",
       "std    17862.784315      1.52533      1.252073      2.934818      2.788005   \n",
       "min        1.000000      0.00000      0.000000      0.000000      0.000000   \n",
       "25%    15470.250000      0.00000      0.000000      0.000000      0.000000   \n",
       "50%    30939.500000      0.00000      0.000000      0.000000      0.000000   \n",
       "75%    46408.750000      0.00000      0.000000      0.000000      0.000000   \n",
       "max    61878.000000     61.00000     51.000000     64.000000     70.000000   \n",
       "\n",
       "             feat_5        feat_6        feat_7        feat_8        feat_9  \\\n",
       "count  61878.000000  61878.000000  61878.000000  61878.000000  61878.000000   \n",
       "mean       0.071043      0.025696      0.193704      0.662433      1.011296   \n",
       "std        0.438902      0.215333      1.030102      2.255770      3.474822   \n",
       "min        0.000000      0.000000      0.000000      0.000000      0.000000   \n",
       "25%        0.000000      0.000000      0.000000      0.000000      0.000000   \n",
       "50%        0.000000      0.000000      0.000000      0.000000      0.000000   \n",
       "75%        0.000000      0.000000      0.000000      1.000000      0.000000   \n",
       "max       19.000000     10.000000     38.000000     76.000000     43.000000   \n",
       "\n",
       "           ...            feat_84       feat_85       feat_86       feat_87  \\\n",
       "count      ...       61878.000000  61878.000000  61878.000000  61878.000000   \n",
       "mean       ...           0.070752      0.532306      1.128576      0.393549   \n",
       "std        ...           1.151460      1.900438      2.681554      1.575455   \n",
       "min        ...           0.000000      0.000000      0.000000      0.000000   \n",
       "25%        ...           0.000000      0.000000      0.000000      0.000000   \n",
       "50%        ...           0.000000      0.000000      0.000000      0.000000   \n",
       "75%        ...           0.000000      0.000000      1.000000      0.000000   \n",
       "max        ...          76.000000     55.000000     65.000000     67.000000   \n",
       "\n",
       "            feat_88       feat_89       feat_90       feat_91       feat_92  \\\n",
       "count  61878.000000  61878.000000  61878.000000  61878.000000  61878.000000   \n",
       "mean       0.874915      0.457772      0.812421      0.264941      0.380119   \n",
       "std        2.115466      1.527385      4.597804      2.045646      0.982385   \n",
       "min        0.000000      0.000000      0.000000      0.000000      0.000000   \n",
       "25%        0.000000      0.000000      0.000000      0.000000      0.000000   \n",
       "50%        0.000000      0.000000      0.000000      0.000000      0.000000   \n",
       "75%        1.000000      0.000000      0.000000      0.000000      0.000000   \n",
       "max       30.000000     61.000000    130.000000     52.000000     19.000000   \n",
       "\n",
       "            feat_93  \n",
       "count  61878.000000  \n",
       "mean       0.126135  \n",
       "std        1.201720  \n",
       "min        0.000000  \n",
       "25%        0.000000  \n",
       "50%        0.000000  \n",
       "75%        0.000000  \n",
       "max       87.000000  \n",
       "\n",
       "[8 rows x 94 columns]"
      ]
     },
     "execution_count": 64,
     "metadata": {},
     "output_type": "execute_result"
    }
   ],
   "source": [
    "train.describe()"
   ]
  },
  {
   "cell_type": "markdown",
   "metadata": {},
   "source": [
    "~62K training examples. \n",
    "\n",
    "The features are a sparse matrix, with ~75% having zero values."
   ]
  },
  {
   "cell_type": "markdown",
   "metadata": {},
   "source": [
    "## Getting the data into shape."
   ]
  },
  {
   "cell_type": "markdown",
   "metadata": {},
   "source": [
    "Seperate the features and the labels"
   ]
  },
  {
   "cell_type": "code",
   "execution_count": 65,
   "metadata": {},
   "outputs": [
    {
     "name": "stdout",
     "output_type": "stream",
     "text": [
      "X shape: (61878, 93)\n",
      "Y shape: (61878,)\n"
     ]
    }
   ],
   "source": [
    "X = train.loc[:, \"feat_1\":\"feat_93\"]\n",
    "Y = train.loc[:, \"target\"]\n",
    "print(\"X shape: \" + str(X.shape))\n",
    "print(\"Y shape: \" + str(Y.shape))"
   ]
  },
  {
   "cell_type": "markdown",
   "metadata": {},
   "source": [
    "Convert labels to one-hot encoding"
   ]
  },
  {
   "cell_type": "code",
   "execution_count": 66,
   "metadata": {},
   "outputs": [
    {
     "name": "stdout",
     "output_type": "stream",
     "text": [
      "New Y shape: (61878, 9)\n"
     ]
    }
   ],
   "source": [
    "one_hot_encoding = pd.get_dummies(Y)\n",
    "#Y = one_hot_encoding\n",
    "print(\"New Y shape: \" + str(one_hot_encoding.shape))"
   ]
  },
  {
   "cell_type": "markdown",
   "metadata": {},
   "source": [
    "Now let's randomly shuffle them, so that we'll be able to do batch gradient descent"
   ]
  },
  {
   "cell_type": "code",
   "execution_count": 67,
   "metadata": {},
   "outputs": [],
   "source": [
    "shuffle_index = np.random.permutation(train.index)\n",
    "shuffled_X = X.reindex(shuffle_index)\n",
    "shuffled_Y = Y.reindex(shuffle_index)\n",
    "shuffled_one_hot = one_hot_encoding.reindex(shuffle_index)"
   ]
  },
  {
   "cell_type": "markdown",
   "metadata": {},
   "source": [
    "Now we're ready to split them into train/test sets.\n",
    "\n",
    "I've been led to believe that 10,000 should be more than enough for testing."
   ]
  },
  {
   "cell_type": "code",
   "execution_count": 68,
   "metadata": {},
   "outputs": [
    {
     "name": "stdout",
     "output_type": "stream",
     "text": [
      "train features shape: (51878, 93)\n",
      "train labels shape: (51878, 9)\n",
      "\n",
      "test features shape: (10000, 93)\n",
      "test labels shape: (10000, 9)\n"
     ]
    }
   ],
   "source": [
    "test_size = 10000\n",
    "X_test = shuffled_X[0:test_size]\n",
    "X_train = shuffled_X[test_size:]\n",
    "Y_test = shuffled_one_hot[0:test_size]\n",
    "Y_train = shuffled_one_hot[test_size:]\n",
    "print(\"train features shape: \" + str(X_train.shape))\n",
    "print(\"train labels shape: \" + str(Y_train.shape))\n",
    "print(\"\")\n",
    "print(\"test features shape: \" + str(X_test.shape))\n",
    "print(\"test labels shape: \" + str(Y_test.shape))"
   ]
  },
  {
   "cell_type": "markdown",
   "metadata": {},
   "source": [
    "Let's normalize the inputs by dividing by max of each feature, to get them between 0 and 1.  \n",
    "(We take those from the whole X, so it's consistent for the test set as well)"
   ]
  },
  {
   "cell_type": "code",
   "execution_count": 69,
   "metadata": {},
   "outputs": [],
   "source": [
    "max_X = X.max()\n",
    "#var_X = X.var()\n",
    "X_train_normalized = X_train.div(max_X, axis = 1)\n",
    "#X_train_normalized = X_train.div(var_X, axis = 1)\n",
    "\n",
    "X_test_normalized = X_test.div(max_X, axis = 1)\n",
    "#X_test_normalized = X_test.div(var_X, axis = 1)"
   ]
  },
  {
   "cell_type": "markdown",
   "metadata": {},
   "source": [
    "## Ready for tensorflow (choose one of the models)"
   ]
  },
  {
   "cell_type": "markdown",
   "metadata": {},
   "source": [
    "### Model #1 - Logistic Regression"
   ]
  },
  {
   "cell_type": "code",
   "execution_count": 71,
   "metadata": {},
   "outputs": [],
   "source": [
    "X_batch = tf.placeholder(tf.float32, [93, None]) # 93 by mini-batch size\n",
    "Y_batch = tf.placeholder(tf.float32, [9, None])\n",
    "\n",
    "W = tf.Variable(tf.random_uniform([9, 93]) * tf.sqrt(2/138))\n",
    "b = tf.Variable(tf.random_uniform([9, 1]))\n",
    "\n",
    "Z = tf.matmul(W, X_batch) + b\n",
    "\n",
    "# we need to transpose them, to work with the cross_entropy function, so now they become of shape m * 9 instead\n",
    "Y_labels = tf.transpose(Y_batch)\n",
    "Y_logits = tf.transpose(Z)"
   ]
  },
  {
   "cell_type": "markdown",
   "metadata": {},
   "source": [
    "### Model #2 - NN, one hidden layer"
   ]
  },
  {
   "cell_type": "code",
   "execution_count": 266,
   "metadata": {},
   "outputs": [],
   "source": [
    "X_batch = tf.placeholder(tf.float32, [93, None]) # 93 by mini-batch size\n",
    "Y_batch = tf.placeholder(tf.float32, [9, None])\n",
    "\n",
    "W1 = tf.Variable(tf.random_uniform([45, 93]) * tf.sqrt(2/138))\n",
    "b1 = tf.Variable(tf.random_uniform([45, 1]))\n",
    "\n",
    "Z1 = tf.matmul(W1, X_batch) + b1\n",
    "A1 = tf.nn.relu(Z1) # 45 by mini-batch size\n",
    "\n",
    "W2 = tf.Variable(tf.random_uniform([9, 45]) * tf.sqrt(2/65))\n",
    "b2 = tf.Variable(tf.random_uniform([9, 1]))\n",
    "\n",
    "Z2 = tf.matmul(W2, A1) + b2\n",
    "\n",
    "# we need to transpose them, to work with the cross_entropy function, so now they become of shape m * 9 instead\n",
    "Y_labels = tf.transpose(Y_batch)\n",
    "Y_logits = tf.transpose(Z2)"
   ]
  },
  {
   "cell_type": "markdown",
   "metadata": {},
   "source": [
    "### Model #3 - NN, 2 hidden layers"
   ]
  },
  {
   "cell_type": "code",
   "execution_count": 13,
   "metadata": {},
   "outputs": [],
   "source": [
    "X_batch = tf.placeholder(tf.float32, [93, None]) # 93 by mini-batch size\n",
    "Y_batch = tf.placeholder(tf.float32, [9, None])\n",
    "\n",
    "W1 = tf.Variable(tf.random_uniform([45, 93]) * tf.sqrt(2/93))\n",
    "b1 = tf.Variable(tf.random_uniform([45, 1]))\n",
    "\n",
    "Z1 = tf.matmul(W1, X_batch) + b1\n",
    "A1 = tf.nn.relu(Z1) # 45 by mini-batch size\n",
    "\n",
    "W2 = tf.Variable(tf.random_uniform([20, 45]) * tf.sqrt(2/45))\n",
    "b2 = tf.Variable(tf.random_uniform([20, 1]))\n",
    "\n",
    "Z2 = tf.matmul(W2, A1) + b2\n",
    "A2 = tf.nn.relu(Z2) # 20 by mini-batch size\n",
    "\n",
    "W3 = tf.Variable(tf.random_uniform([9, 20]) * tf.sqrt(2/45))\n",
    "b3 = tf.Variable(tf.random_uniform([9, 1]))\n",
    "\n",
    "Z3 = tf.matmul(W3, A2) + b3 # 9 by mini-batch size\n",
    "\n",
    "# we need to transpose them, to work with the cross_entropy function, so now they become of shape m * 9 instead\n",
    "Y_labels = tf.transpose(Y_batch)\n",
    "Y_logits = tf.transpose(Z3)"
   ]
  },
  {
   "cell_type": "markdown",
   "metadata": {},
   "source": [
    "### For all models, setting up training and evaluation (choose appropriate regularization)"
   ]
  },
  {
   "cell_type": "code",
   "execution_count": 72,
   "metadata": {},
   "outputs": [],
   "source": [
    "# this is for training\n",
    "cross_entropy = tf.reduce_mean(tf.nn.softmax_cross_entropy_with_logits(labels=Y_labels, logits=Y_logits))\n",
    "\n",
    "# regularization...\n",
    "#lambd = .0001\n",
    "\n",
    "# for logistic regression\n",
    "#regularization = tf.nn.l2_loss(W)\n",
    "\n",
    "# for one-layer nn\n",
    "#regularization = tf.nn.l2_loss(W1) + tf.nn.l2_loss(W2)\n",
    "\n",
    "# for 2-layer nn\n",
    "#regularization = tf.nn.l2_loss(W1) + tf.nn.l2_loss(W2) + tf.nn.l2_loss(W2)\n",
    "\n",
    "#cross_entropy = cross_entropy + (regularization * lambd)\n",
    "\n",
    "# These are the predictions, and the actual labels, in a standardized form\n",
    "actual_predictions = tf.argmax(Y_logits, 1)\n",
    "actual_labels = tf.argmax(Y_labels, 1)\n",
    "\n",
    "# and this is for evaluation\n",
    "correct_prediction = tf.equal(actual_predictions, actual_labels)\n",
    "correct_prediction = tf.cast(correct_prediction, tf.float32)\n",
    "accuracy = tf.reduce_mean(correct_prediction)\n",
    "\n",
    "# need to manually evaluate loss for the test set, where we're not training\n",
    "manual_softmax = tf.nn.softmax(logits=Y_logits)\n",
    "manual_mask = tf.equal(Y_labels, 1)\n",
    "manual_cost = tf.boolean_mask(manual_softmax, manual_mask)"
   ]
  },
  {
   "cell_type": "markdown",
   "metadata": {},
   "source": [
    "## Initialize variables for the session"
   ]
  },
  {
   "cell_type": "code",
   "execution_count": 73,
   "metadata": {},
   "outputs": [],
   "source": [
    "alpha = 3\n",
    "\n",
    "#train_step = tf.train.AdamOptimizer(alpha).minimize(cross_entropy)\n",
    "train_step = tf.train.GradientDescentOptimizer(alpha).minimize(cross_entropy)\n",
    "\n",
    "session = tf.InteractiveSession()\n",
    "\n",
    "init = tf.global_variables_initializer()\n",
    "init.run()"
   ]
  },
  {
   "cell_type": "markdown",
   "metadata": {},
   "source": [
    "## Ready for training!"
   ]
  },
  {
   "cell_type": "code",
   "execution_count": 74,
   "metadata": {},
   "outputs": [],
   "source": [
    "epoch_counts = [0]\n",
    "epoch_costs = [np.mean(np.log(manual_cost.eval({X_batch: np.transpose(X_test_normalized), \n",
    "                  Y_batch: np.transpose(Y_test)})) * -1)]\n",
    "epoch_test_costs = [np.mean(np.log(manual_cost.eval({X_batch: np.transpose(X_test_normalized), \n",
    "                  Y_batch: np.transpose(Y_test)})) * -1)]\n",
    "epoch_train_accuracies = []\n",
    "epoch_test_accuracies = []\n",
    "current_epoch = 0\n",
    "\n",
    "epoch_train_accuracies.append(accuracy.eval({X_batch: np.transpose(X_train_normalized), \n",
    "                                             Y_batch: np.transpose(Y_train)}))\n",
    "epoch_test_accuracies.append(accuracy.eval({X_batch: np.transpose(X_test_normalized), \n",
    "                                            Y_batch: np.transpose(Y_test)}))\n"
   ]
  },
  {
   "cell_type": "code",
   "execution_count": 75,
   "metadata": {},
   "outputs": [
    {
     "name": "stdout",
     "output_type": "stream",
     "text": [
      "epoch #10 | train accuracy: 0.6799414 ,cost: 1.0670315222098277 | test accuracy: 0.6827 ,cost: 1.0502864\n",
      "epoch #20 | train accuracy: 0.70214736 ,cost: 0.9332428563099641 | test accuracy: 0.7054 ,cost: 0.9262076\n",
      "epoch #30 | train accuracy: 0.71155405 ,cost: 0.8727103162270325 | test accuracy: 0.7151 ,cost: 0.8689873\n",
      "epoch #40 | train accuracy: 0.71754885 ,cost: 0.8367579109393634 | test accuracy: 0.7202 ,cost: 0.8347258\n",
      "epoch #50 | train accuracy: 0.7215197 ,cost: 0.8123434014045275 | test accuracy: 0.725 ,cost: 0.8113599\n",
      "epoch #60 | train accuracy: 0.7249123 ,cost: 0.7943808275919694 | test accuracy: 0.7284 ,cost: 0.79412425\n",
      "epoch #70 | train accuracy: 0.7281121 ,cost: 0.7804470073718291 | test accuracy: 0.7304 ,cost: 0.78073084\n",
      "epoch #80 | train accuracy: 0.73069507 ,cost: 0.7692264857200476 | test accuracy: 0.7311 ,cost: 0.76993173\n",
      "epoch #90 | train accuracy: 0.73190945 ,cost: 0.7599363911610383 | test accuracy: 0.7327 ,cost: 0.7609822\n",
      "epoch #100 | train accuracy: 0.7334901 ,cost: 0.7520779497348345 | test accuracy: 0.7332 ,cost: 0.753407\n",
      "epoch #110 | train accuracy: 0.7349165 ,cost: 0.7453162257487957 | test accuracy: 0.7348 ,cost: 0.74688655\n",
      "epoch #120 | train accuracy: 0.73634297 ,cost: 0.7394167941350204 | test accuracy: 0.736 ,cost: 0.74119705\n",
      "epoch #130 | train accuracy: 0.7373068 ,cost: 0.7342100315369092 | test accuracy: 0.7378 ,cost: 0.73617625\n",
      "epoch #140 | train accuracy: 0.738232 ,cost: 0.7295696185185359 | test accuracy: 0.7391 ,cost: 0.7317032\n",
      "epoch #150 | train accuracy: 0.73961985 ,cost: 0.7253993818393121 | test accuracy: 0.7407 ,cost: 0.72768587\n",
      "epoch #160 | train accuracy: 0.74069935 ,cost: 0.7216245910296073 | test accuracy: 0.7409 ,cost: 0.72405237\n",
      "epoch #170 | train accuracy: 0.741374 ,cost: 0.7181861136968319 | test accuracy: 0.7422 ,cost: 0.7207458\n",
      "epoch #180 | train accuracy: 0.7424149 ,cost: 0.71503662948425 | test accuracy: 0.7429 ,cost: 0.7177207\n",
      "epoch #190 | train accuracy: 0.7431281 ,cost: 0.7121376441075251 | test accuracy: 0.7436 ,cost: 0.7149399\n",
      "epoch #200 | train accuracy: 0.7438606 ,cost: 0.7094574570655823 | test accuracy: 0.7447 ,cost: 0.7123727\n",
      "epoch #210 | train accuracy: 0.7444003 ,cost: 0.7069697953187503 | test accuracy: 0.7455 ,cost: 0.7099938\n",
      "epoch #220 | train accuracy: 0.7452292 ,cost: 0.704652570761167 | test accuracy: 0.7458 ,cost: 0.70778173\n",
      "epoch #230 | train accuracy: 0.7457689 ,cost: 0.7024871844511765 | test accuracy: 0.7466 ,cost: 0.7057186\n",
      "epoch #240 | train accuracy: 0.74655926 ,cost: 0.7004576852688422 | test accuracy: 0.7467 ,cost: 0.7037887\n",
      "epoch #250 | train accuracy: 0.7468484 ,cost: 0.6985505085725051 | test accuracy: 0.747 ,cost: 0.701979\n",
      "epoch #260 | train accuracy: 0.7473688 ,cost: 0.6967537769904504 | test accuracy: 0.7476 ,cost: 0.700278\n",
      "epoch #270 | train accuracy: 0.7476387 ,cost: 0.6950573944128476 | test accuracy: 0.7484 ,cost: 0.69867575\n",
      "epoch #280 | train accuracy: 0.7480242 ,cost: 0.6934523295897704 | test accuracy: 0.7492 ,cost: 0.6971636\n",
      "epoch #290 | train accuracy: 0.74854463 ,cost: 0.6919307422179443 | test accuracy: 0.7491 ,cost: 0.6957338\n",
      "epoch #300 | train accuracy: 0.7489109 ,cost: 0.6904857147198457 | test accuracy: 0.7496 ,cost: 0.69437957\n",
      "epoch #310 | train accuracy: 0.7491229 ,cost: 0.6891111043783334 | test accuracy: 0.7498 ,cost: 0.69309497\n",
      "epoch #320 | train accuracy: 0.7492772 ,cost: 0.687801426419845 | test accuracy: 0.75 ,cost: 0.69187456\n",
      "epoch #330 | train accuracy: 0.7493928 ,cost: 0.6865517840935633 | test accuracy: 0.7506 ,cost: 0.6907137\n",
      "epoch #340 | train accuracy: 0.7499133 ,cost: 0.6853578503315265 | test accuracy: 0.7503 ,cost: 0.68960786\n",
      "epoch #350 | train accuracy: 0.75004816 ,cost: 0.6842156201601028 | test accuracy: 0.7506 ,cost: 0.68855333\n",
      "epoch #360 | train accuracy: 0.7502795 ,cost: 0.6831215585653598 | test accuracy: 0.7509 ,cost: 0.6875464\n",
      "epoch #370 | train accuracy: 0.75047225 ,cost: 0.6820724617976409 | test accuracy: 0.7514 ,cost: 0.68658406\n",
      "epoch #380 | train accuracy: 0.7508578 ,cost: 0.6810653026287372 | test accuracy: 0.7515 ,cost: 0.6856633\n",
      "epoch #390 | train accuracy: 0.75105053 ,cost: 0.6800974905490875 | test accuracy: 0.7521 ,cost: 0.6847814\n",
      "epoch #400 | train accuracy: 0.7513011 ,cost: 0.6791665496734473 | test accuracy: 0.7521 ,cost: 0.6839358\n",
      "epoch #410 | train accuracy: 0.751571 ,cost: 0.6782702482663668 | test accuracy: 0.7525 ,cost: 0.68312454\n",
      "epoch #420 | train accuracy: 0.75186014 ,cost: 0.6774065276751151 | test accuracy: 0.7526 ,cost: 0.6823454\n",
      "epoch #430 | train accuracy: 0.7520529 ,cost: 0.6765734828435458 | test accuracy: 0.753 ,cost: 0.68159646\n",
      "epoch #440 | train accuracy: 0.7524384 ,cost: 0.6757693944069055 | test accuracy: 0.753 ,cost: 0.6808759\n",
      "epoch #450 | train accuracy: 0.75265044 ,cost: 0.6749926679409467 | test accuracy: 0.7534 ,cost: 0.6801822\n"
     ]
    },
    {
     "ename": "KeyboardInterrupt",
     "evalue": "",
     "output_type": "error",
     "traceback": [
      "\u001b[1;31m---------------------------------------------------------------------------\u001b[0m",
      "\u001b[1;31mKeyboardInterrupt\u001b[0m                         Traceback (most recent call last)",
      "\u001b[1;32m<ipython-input-75-eb51397a0e01>\u001b[0m in \u001b[0;36m<module>\u001b[1;34m()\u001b[0m\n\u001b[0;32m     17\u001b[0m         _, iter_cost = session.run([train_step, cross_entropy], \n\u001b[0;32m     18\u001b[0m                                    {X_batch: np.transpose(X_train_normalized.iloc[batch_start:batch_end]), \n\u001b[1;32m---> 19\u001b[1;33m                                     Y_batch: np.transpose(Y_train.iloc[batch_start:batch_end])})\n\u001b[0m\u001b[0;32m     20\u001b[0m         \u001b[0mstep_cost\u001b[0m\u001b[1;33m.\u001b[0m\u001b[0mappend\u001b[0m\u001b[1;33m(\u001b[0m\u001b[0miter_cost\u001b[0m\u001b[1;33m)\u001b[0m\u001b[1;33m\u001b[0m\u001b[0m\n\u001b[0;32m     21\u001b[0m \u001b[1;33m\u001b[0m\u001b[0m\n",
      "\u001b[1;32m~\\Anaconda3\\lib\\site-packages\\tensorflow\\python\\client\\session.py\u001b[0m in \u001b[0;36mrun\u001b[1;34m(self, fetches, feed_dict, options, run_metadata)\u001b[0m\n\u001b[0;32m    787\u001b[0m     \u001b[1;32mtry\u001b[0m\u001b[1;33m:\u001b[0m\u001b[1;33m\u001b[0m\u001b[0m\n\u001b[0;32m    788\u001b[0m       result = self._run(None, fetches, feed_dict, options_ptr,\n\u001b[1;32m--> 789\u001b[1;33m                          run_metadata_ptr)\n\u001b[0m\u001b[0;32m    790\u001b[0m       \u001b[1;32mif\u001b[0m \u001b[0mrun_metadata\u001b[0m\u001b[1;33m:\u001b[0m\u001b[1;33m\u001b[0m\u001b[0m\n\u001b[0;32m    791\u001b[0m         \u001b[0mproto_data\u001b[0m \u001b[1;33m=\u001b[0m \u001b[0mtf_session\u001b[0m\u001b[1;33m.\u001b[0m\u001b[0mTF_GetBuffer\u001b[0m\u001b[1;33m(\u001b[0m\u001b[0mrun_metadata_ptr\u001b[0m\u001b[1;33m)\u001b[0m\u001b[1;33m\u001b[0m\u001b[0m\n",
      "\u001b[1;32m~\\Anaconda3\\lib\\site-packages\\tensorflow\\python\\client\\session.py\u001b[0m in \u001b[0;36m_run\u001b[1;34m(self, handle, fetches, feed_dict, options, run_metadata)\u001b[0m\n\u001b[0;32m    995\u001b[0m     \u001b[1;32mif\u001b[0m \u001b[0mfinal_fetches\u001b[0m \u001b[1;32mor\u001b[0m \u001b[0mfinal_targets\u001b[0m\u001b[1;33m:\u001b[0m\u001b[1;33m\u001b[0m\u001b[0m\n\u001b[0;32m    996\u001b[0m       results = self._do_run(handle, final_targets, final_fetches,\n\u001b[1;32m--> 997\u001b[1;33m                              feed_dict_string, options, run_metadata)\n\u001b[0m\u001b[0;32m    998\u001b[0m     \u001b[1;32melse\u001b[0m\u001b[1;33m:\u001b[0m\u001b[1;33m\u001b[0m\u001b[0m\n\u001b[0;32m    999\u001b[0m       \u001b[0mresults\u001b[0m \u001b[1;33m=\u001b[0m \u001b[1;33m[\u001b[0m\u001b[1;33m]\u001b[0m\u001b[1;33m\u001b[0m\u001b[0m\n",
      "\u001b[1;32m~\\Anaconda3\\lib\\site-packages\\tensorflow\\python\\client\\session.py\u001b[0m in \u001b[0;36m_do_run\u001b[1;34m(self, handle, target_list, fetch_list, feed_dict, options, run_metadata)\u001b[0m\n\u001b[0;32m   1130\u001b[0m     \u001b[1;32mif\u001b[0m \u001b[0mhandle\u001b[0m \u001b[1;32mis\u001b[0m \u001b[1;32mNone\u001b[0m\u001b[1;33m:\u001b[0m\u001b[1;33m\u001b[0m\u001b[0m\n\u001b[0;32m   1131\u001b[0m       return self._do_call(_run_fn, self._session, feed_dict, fetch_list,\n\u001b[1;32m-> 1132\u001b[1;33m                            target_list, options, run_metadata)\n\u001b[0m\u001b[0;32m   1133\u001b[0m     \u001b[1;32melse\u001b[0m\u001b[1;33m:\u001b[0m\u001b[1;33m\u001b[0m\u001b[0m\n\u001b[0;32m   1134\u001b[0m       return self._do_call(_prun_fn, self._session, handle, feed_dict,\n",
      "\u001b[1;32m~\\Anaconda3\\lib\\site-packages\\tensorflow\\python\\client\\session.py\u001b[0m in \u001b[0;36m_do_call\u001b[1;34m(self, fn, *args)\u001b[0m\n\u001b[0;32m   1137\u001b[0m   \u001b[1;32mdef\u001b[0m \u001b[0m_do_call\u001b[0m\u001b[1;33m(\u001b[0m\u001b[0mself\u001b[0m\u001b[1;33m,\u001b[0m \u001b[0mfn\u001b[0m\u001b[1;33m,\u001b[0m \u001b[1;33m*\u001b[0m\u001b[0margs\u001b[0m\u001b[1;33m)\u001b[0m\u001b[1;33m:\u001b[0m\u001b[1;33m\u001b[0m\u001b[0m\n\u001b[0;32m   1138\u001b[0m     \u001b[1;32mtry\u001b[0m\u001b[1;33m:\u001b[0m\u001b[1;33m\u001b[0m\u001b[0m\n\u001b[1;32m-> 1139\u001b[1;33m       \u001b[1;32mreturn\u001b[0m \u001b[0mfn\u001b[0m\u001b[1;33m(\u001b[0m\u001b[1;33m*\u001b[0m\u001b[0margs\u001b[0m\u001b[1;33m)\u001b[0m\u001b[1;33m\u001b[0m\u001b[0m\n\u001b[0m\u001b[0;32m   1140\u001b[0m     \u001b[1;32mexcept\u001b[0m \u001b[0merrors\u001b[0m\u001b[1;33m.\u001b[0m\u001b[0mOpError\u001b[0m \u001b[1;32mas\u001b[0m \u001b[0me\u001b[0m\u001b[1;33m:\u001b[0m\u001b[1;33m\u001b[0m\u001b[0m\n\u001b[0;32m   1141\u001b[0m       \u001b[0mmessage\u001b[0m \u001b[1;33m=\u001b[0m \u001b[0mcompat\u001b[0m\u001b[1;33m.\u001b[0m\u001b[0mas_text\u001b[0m\u001b[1;33m(\u001b[0m\u001b[0me\u001b[0m\u001b[1;33m.\u001b[0m\u001b[0mmessage\u001b[0m\u001b[1;33m)\u001b[0m\u001b[1;33m\u001b[0m\u001b[0m\n",
      "\u001b[1;32m~\\Anaconda3\\lib\\site-packages\\tensorflow\\python\\client\\session.py\u001b[0m in \u001b[0;36m_run_fn\u001b[1;34m(session, feed_dict, fetch_list, target_list, options, run_metadata)\u001b[0m\n\u001b[0;32m   1119\u001b[0m         return tf_session.TF_Run(session, options,\n\u001b[0;32m   1120\u001b[0m                                  \u001b[0mfeed_dict\u001b[0m\u001b[1;33m,\u001b[0m \u001b[0mfetch_list\u001b[0m\u001b[1;33m,\u001b[0m \u001b[0mtarget_list\u001b[0m\u001b[1;33m,\u001b[0m\u001b[1;33m\u001b[0m\u001b[0m\n\u001b[1;32m-> 1121\u001b[1;33m                                  status, run_metadata)\n\u001b[0m\u001b[0;32m   1122\u001b[0m \u001b[1;33m\u001b[0m\u001b[0m\n\u001b[0;32m   1123\u001b[0m     \u001b[1;32mdef\u001b[0m \u001b[0m_prun_fn\u001b[0m\u001b[1;33m(\u001b[0m\u001b[0msession\u001b[0m\u001b[1;33m,\u001b[0m \u001b[0mhandle\u001b[0m\u001b[1;33m,\u001b[0m \u001b[0mfeed_dict\u001b[0m\u001b[1;33m,\u001b[0m \u001b[0mfetch_list\u001b[0m\u001b[1;33m)\u001b[0m\u001b[1;33m:\u001b[0m\u001b[1;33m\u001b[0m\u001b[0m\n",
      "\u001b[1;31mKeyboardInterrupt\u001b[0m: "
     ]
    }
   ],
   "source": [
    "batch_size = 1000\n",
    "batches_in_epoch = int(X_train.shape[0] / batch_size)\n",
    "remainder = X_train.shape[0] % batch_size\n",
    "train_epochs = 500 # should be enough, see where the peek is, then rerun that amount\n",
    "\n",
    "\n",
    "batch_start = 0\n",
    "\n",
    "for i in range(train_epochs):\n",
    "    current_epoch += 1 # one-index based\n",
    "\n",
    "    step_cost = []\n",
    "    # train on the batches\n",
    "    for j in range(batches_in_epoch):\n",
    "        batch_start = j * batch_size\n",
    "        batch_end = batch_start + batch_size\n",
    "        _, iter_cost = session.run([train_step, cross_entropy], \n",
    "                                   {X_batch: np.transpose(X_train_normalized.iloc[batch_start:batch_end]), \n",
    "                                    Y_batch: np.transpose(Y_train.iloc[batch_start:batch_end])})\n",
    "        step_cost.append(iter_cost)\n",
    "\n",
    "            \n",
    "    # train on the remainder\n",
    "    batch_start = batches_in_epoch * batch_size\n",
    "    _, iter_cost = session.run([train_step, cross_entropy], \n",
    "                               {X_batch: np.transpose(X_train_normalized.iloc[batch_start:]), \n",
    "                                Y_batch: np.transpose(Y_train.iloc[batch_start:])})\n",
    "    step_cost.append(iter_cost)\n",
    "\n",
    "    # save the cost and accuracy for plotting every 10 epochs\n",
    "    if current_epoch % 10 == 0:\n",
    "        epoch_counts.append(current_epoch)\n",
    "        epoch_train_accuracies.append(accuracy.eval({X_batch: np.transpose(X_train_normalized), \n",
    "                                                     Y_batch: np.transpose(Y_train)}))\n",
    "        epoch_test_accuracies.append(accuracy.eval({X_batch: np.transpose(X_test_normalized), \n",
    "                                                     Y_batch: np.transpose(Y_test)}))\n",
    "        epoch_costs.append(sum(step_cost) / float(len(step_cost)))\n",
    "        epoch_test_costs.append(np.mean(np.log(manual_cost.eval({X_batch: np.transpose(X_test_normalized), \n",
    "                  Y_batch: np.transpose(Y_test)})) * -1))\n",
    "        print(\"epoch #\" + str(current_epoch), \n",
    "              \"| train accuracy: \" + str(epoch_train_accuracies[-1]), \",cost: \" + str(epoch_costs[-1]),\n",
    "              \"| test accuracy: \" + str(epoch_test_accuracies[-1]), \",cost: \" + str(epoch_test_costs[-1]))"
   ]
  },
  {
   "cell_type": "code",
   "execution_count": 193,
   "metadata": {},
   "outputs": [
    {
     "name": "stdout",
     "output_type": "stream",
     "text": [
      "final train accuracy after 150 epochs is: 0.8356528878211975\n",
      "final test accuracy after 150 epochs is: 0.788100004196167\n",
      "final train cost after 150 epochs is: 0.4101850470671287\n",
      "final test cost after 150 epochs is: 0.5970072746276855\n"
     ]
    },
    {
     "data": {
      "image/png": "[encoded data removed]",
      "text/plain": [
       "<matplotlib.figure.Figure at 0x1ddb42cf5c0>"
      ]
     },
     "metadata": {},
     "output_type": "display_data"
    }
   ],
   "source": [
    "import matplotlib.pyplot as plt\n",
    "epoch_start = 0\n",
    "epoch_end = len(epoch_test_accuracies)\n",
    "plt.plot(epoch_counts[epoch_start:], epoch_train_accuracies[epoch_start:], \"b\",\n",
    "         epoch_counts[epoch_start:], epoch_test_accuracies[epoch_start:], \"r\")\n",
    "print(\"final train accuracy after {} epochs is: {}\".format(epoch_counts[-1], epoch_train_accuracies[-1]))\n",
    "print(\"final test accuracy after {} epochs is: {}\".format(epoch_counts[-1], epoch_test_accuracies[-1]))\n",
    "print(\"final train cost after {} epochs is: {}\".format(epoch_counts[-1], epoch_costs[-1]))\n",
    "print(\"final test cost after {} epochs is: {}\".format(epoch_counts[-1], epoch_test_costs[-1]))"
   ]
  },
  {
   "cell_type": "markdown",
   "metadata": {},
   "source": [
    "### Let's try some feature engineering"
   ]
  },
  {
   "cell_type": "markdown",
   "metadata": {},
   "source": [
    "These are black box features, hard to engineer.\n",
    "\n",
    "Still, some ideas...\n",
    "* get most important features, and create new features of the difference between them (would think that it doesn't add much for neural nets, that could learn linear features, but saw from someone that it's helpful.\n",
    "* binary features of whether feature is 0 or not.\n",
    "* binary features of whether combination of correlated features are present\n",
    "* binning values.\n",
    "* Saw that XGboost can be used to find new features."
   ]
  },
  {
   "cell_type": "markdown",
   "metadata": {},
   "source": [
    "### let's use scikit to do logistic regression, and get the most important features. Maybe..."
   ]
  },
  {
   "cell_type": "code",
   "execution_count": 329,
   "metadata": {},
   "outputs": [],
   "source": [
    "import sklearn.linear_model"
   ]
  },
  {
   "cell_type": "code",
   "execution_count": 330,
   "metadata": {},
   "outputs": [],
   "source": [
    "log_model = sklearn.linear_model.LogisticRegression()"
   ]
  },
  {
   "cell_type": "code",
   "execution_count": 331,
   "metadata": {},
   "outputs": [
    {
     "data": {
      "text/plain": [
       "(51878,)"
      ]
     },
     "execution_count": 331,
     "metadata": {},
     "output_type": "execute_result"
    }
   ],
   "source": [
    "Y_train_singlecol = Y_train.idxmax(axis = 1)\n",
    "Y_train_singlecol.shape"
   ]
  },
  {
   "cell_type": "code",
   "execution_count": 332,
   "metadata": {},
   "outputs": [
    {
     "data": {
      "text/plain": [
       "LogisticRegression(C=1.0, class_weight=None, dual=False, fit_intercept=True,\n",
       "          intercept_scaling=1, max_iter=100, multi_class='ovr', n_jobs=1,\n",
       "          penalty='l2', random_state=None, solver='liblinear', tol=0.0001,\n",
       "          verbose=0, warm_start=False)"
      ]
     },
     "execution_count": 332,
     "metadata": {},
     "output_type": "execute_result"
    }
   ],
   "source": [
    "log_model.fit(X_train_normalized, Y_train_singlecol)"
   ]
  },
  {
   "cell_type": "code",
   "execution_count": 335,
   "metadata": {},
   "outputs": [
    {
     "name": "stdout",
     "output_type": "stream",
     "text": [
      "score is: 0.729731292648136\n"
     ]
    }
   ],
   "source": [
    "score = log_model.score(X_train_normalized, Y_train_singlecol)\n",
    "print(\"score is: {}\".format(score))\n",
    "coef = log_model.coef_[0]"
   ]
  },
  {
   "cell_type": "code",
   "execution_count": 336,
   "metadata": {},
   "outputs": [
    {
     "data": {
      "text/plain": [
       "93"
      ]
     },
     "execution_count": 336,
     "metadata": {},
     "output_type": "execute_result"
    }
   ],
   "source": [
    "coef_copy = coef\n",
    "len(coef_copy)"
   ]
  },
  {
   "cell_type": "code",
   "execution_count": 337,
   "metadata": {},
   "outputs": [
    {
     "data": {
      "text/plain": [
       "array([33, 10, 24, 13, 39, 16,  8, 14, 68, 66], dtype=int64)"
      ]
     },
     "execution_count": 337,
     "metadata": {},
     "output_type": "execute_result"
    }
   ],
   "source": [
    "sort_index = (abs(coef_copy) * -1).argsort()\n",
    "best_features = sort_index[0:10]\n",
    "best_features"
   ]
  },
  {
   "cell_type": "markdown",
   "metadata": {},
   "source": [
    "so the most relevant features are the ones above.  \n",
    "let's make tuples of pairs of each of those, which will be a total of (10 * 9) / 2"
   ]
  },
  {
   "cell_type": "code",
   "execution_count": 338,
   "metadata": {},
   "outputs": [
    {
     "data": {
      "text/plain": [
       "45"
      ]
     },
     "execution_count": 338,
     "metadata": {},
     "output_type": "execute_result"
    }
   ],
   "source": [
    "feature_pairs = []\n",
    "for i in range(len(best_features)):\n",
    "    for j in range(i+1, len(best_features)):\n",
    "        feature_pairs.append((best_features[i], best_features[j]))\n",
    "len(feature_pairs)"
   ]
  },
  {
   "cell_type": "markdown",
   "metadata": {},
   "source": [
    "For each of those pairs, let's make a new feature which is the difference between them.  \n",
    "We'll do it on the original pandas X dataframes, X_train and X_test"
   ]
  },
  {
   "cell_type": "code",
   "execution_count": 339,
   "metadata": {},
   "outputs": [],
   "source": [
    "engineered_X_train = X_train.copy()\n",
    "engineered_X_test = X_test.copy()\n",
    "\n",
    "feature_names = list(X_train)\n",
    "for feature_1, feature_2 in feature_pairs:\n",
    "    new_feature_name = feature_names[feature_1] + \" - \" + feature_names[feature_2] \n",
    "    engineered_X_train[new_feature_name] = engineered_X_train.iloc[:,feature_1] - engineered_X_train.iloc[:,feature_2]\n",
    "    \n",
    "for feature_1, feature_2 in feature_pairs:\n",
    "    new_feature_name = feature_names[feature_1] + \" - \" + feature_names[feature_2] \n",
    "    engineered_X_test[new_feature_name] = engineered_X_test.iloc[:,feature_1] - engineered_X_test.iloc[:,feature_2]\n"
   ]
  },
  {
   "cell_type": "markdown",
   "metadata": {},
   "source": [
    "It's a sparse matrix, so questionable how many of those features will be meaningful"
   ]
  },
  {
   "cell_type": "markdown",
   "metadata": {},
   "source": [
    "merge the groups for a total of X, for normalizing"
   ]
  },
  {
   "cell_type": "code",
   "execution_count": 343,
   "metadata": {
    "scrolled": true
   },
   "outputs": [],
   "source": [
    "engineered_X = engineered_X_test.append(engineered_X_train)\n",
    "max_engineered_X = engineered_X.max()\n",
    "engineered_X_train_normalized = engineered_X_train.div(max_engineered_X, axis = 1)\n",
    "engineered_X_test_normalized = engineered_X_test.div(max_engineered_X, axis = 1)"
   ]
  },
  {
   "cell_type": "markdown",
   "metadata": {},
   "source": [
    "Now let's plug these values in to the non-engineered variables, so we can run the previous code on them.\n",
    "The only thing we need to change in the previous code when we run it is that instead of 93, we put in 93+45 = 138"
   ]
  },
  {
   "cell_type": "code",
   "execution_count": 344,
   "metadata": {},
   "outputs": [],
   "source": [
    "X_train_normalized = engineered_X_train_normalized\n",
    "X_test_normalized = engineered_X_test_normalized"
   ]
  },
  {
   "cell_type": "markdown",
   "metadata": {},
   "source": [
    "Ok, go back up there and run things again (change the weight placeholder shapes from 93 to 138 etc.)\n",
    "\n",
    "Result: No improvement - actually descreased performance."
   ]
  },
  {
   "cell_type": "markdown",
   "metadata": {},
   "source": [
    "## Manual Analysis\n",
    "\n",
    "### Ok, now let's try doing manual logistic regression, and analyze the results to isolate where to focus in feature engineering"
   ]
  },
  {
   "cell_type": "markdown",
   "metadata": {},
   "source": [
    "Ran manual logistic regression, using code above (gradientDescentOptimizer, no regularization, alpha=3, 500 epochs), until we got to ~.75 accuracy on the test set.\n",
    "\n",
    "Let's build datasets for analysis.  \n",
    "Let's make a dataset with three columns - prediction, actual labels, and whether prediction was correct"
   ]
  },
  {
   "cell_type": "code",
   "execution_count": 20,
   "metadata": {},
   "outputs": [],
   "source": [
    "prediction_metrics = pd.DataFrame(data = actual_predictions.eval({X_batch: np.transpose(X_test_normalized)}), \n",
    "                                  columns = [\"predictions\"])\n",
    "prediction_metrics[\"labels\"] = pd.Series(actual_labels.eval({Y_batch: np.transpose(Y_test)}))\n",
    "prediction_metrics[\"correct_prediction\"] = prediction_metrics[\"predictions\"] == prediction_metrics[\"labels\"]\n",
    "#prediction_metrics[~prediction_metrics[\"correct_prediction\"]]"
   ]
  },
  {
   "cell_type": "markdown",
   "metadata": {},
   "source": [
    "Now, let's join them to the X_test_normalized dataset  \n",
    "\n",
    "For that, we need to reset the index for X_test_normalized, and then join them on the index"
   ]
  },
  {
   "cell_type": "code",
   "execution_count": 21,
   "metadata": {},
   "outputs": [],
   "source": [
    "X_test_normalized = X_test_normalized.reset_index()"
   ]
  },
  {
   "cell_type": "code",
   "execution_count": 22,
   "metadata": {},
   "outputs": [],
   "source": [
    "X_test_analysis = pd.concat([X_test_normalized, prediction_metrics], axis=1, join_axes=[X_test_normalized.index])"
   ]
  },
  {
   "cell_type": "markdown",
   "metadata": {},
   "source": [
    "Remove the index row - not needed"
   ]
  },
  {
   "cell_type": "code",
   "execution_count": 24,
   "metadata": {},
   "outputs": [],
   "source": [
    "X_test_analysis = X_test_analysis.drop(['index'], axis = 1)"
   ]
  },
  {
   "cell_type": "markdown",
   "metadata": {},
   "source": [
    "let's make a simple bar plot of the different classes in:  \n",
    "1. the entire test group\n",
    "2. the group where it was predicted incorrectly"
   ]
  },
  {
   "cell_type": "code",
   "execution_count": 41,
   "metadata": {},
   "outputs": [
    {
     "data": {
      "text/plain": [
       "<matplotlib.axes._subplots.AxesSubplot at 0x1df5c6e3c18>"
      ]
     },
     "execution_count": 41,
     "metadata": {},
     "output_type": "execute_result"
    },
    {
     "data": {
      "image/png": "[encoded data removed]",
      "text/plain": [
       "<matplotlib.figure.Figure at 0x1df5c6537f0>"
      ]
     },
     "metadata": {},
     "output_type": "display_data"
    }
   ],
   "source": [
    "numbers_order = [i for i in range(9)]\n",
    "X_test_analysis[\"labels\"].value_counts().loc[numbers_order].plot(kind=\"bar\", title = \"Counts of Instances by Class\")"
   ]
  },
  {
   "cell_type": "code",
   "execution_count": 58,
   "metadata": {
    "scrolled": true
   },
   "outputs": [
    {
     "data": {
      "text/plain": [
       "<matplotlib.axes._subplots.AxesSubplot at 0x1df5cd8ad30>"
      ]
     },
     "execution_count": 58,
     "metadata": {},
     "output_type": "execute_result"
    },
    {
     "data": {
      "image/png": "[encoded data removed]",
      "text/plain": [
       "<matplotlib.figure.Figure at 0x1df5c81ecf8>"
      ]
     },
     "metadata": {},
     "output_type": "display_data"
    }
   ],
   "source": [
    "X_test_analysis[~X_test_analysis[\"correct_prediction\"]][\"labels\"].value_counts().loc[numbers_order].plot(kind=\"bar\",\n",
    "                                                                title = \"Counts of Incorrect Classification Instances by Class\")"
   ]
  },
  {
   "cell_type": "markdown",
   "metadata": {},
   "source": [
    "Seems like the classes are really skewed!  \n",
    "Makes it hard to interpret the incorrect classification counts.  \n",
    "\n",
    "Let's standardize them, and look at the percentage of instances that were incorrectly classified."
   ]
  },
  {
   "cell_type": "code",
   "execution_count": 59,
   "metadata": {
    "scrolled": true
   },
   "outputs": [
    {
     "data": {
      "text/plain": [
       "<matplotlib.axes._subplots.AxesSubplot at 0x1df5ce18d68>"
      ]
     },
     "execution_count": 59,
     "metadata": {},
     "output_type": "execute_result"
    },
    {
     "data": {
      "image/png": "[encoded data removed]",
      "text/plain": [
       "<matplotlib.figure.Figure at 0x1df5cd5fb00>"
      ]
     },
     "metadata": {},
     "output_type": "display_data"
    }
   ],
   "source": [
    "total_counts = X_test_analysis[\"labels\"].value_counts().loc[numbers_order]\n",
    "incorrect_counts = X_test_analysis[~X_test_analysis[\"correct_prediction\"]][\"labels\"].value_counts().loc[numbers_order]\n",
    "incorrect_percentages = incorrect_counts / total_counts\n",
    "incorrect_plot = (incorrect_percentages * 100).plot(kind=\"bar\", title = \"Percentage of Incorrect Classification Instances by Class\")\n",
    "incorrect_plot.set_yticklabels([\"0%\", \"20%\", \"40%\", \"60%\", \"80%\"])\n",
    "incorrect_plot"
   ]
  },
  {
   "cell_type": "markdown",
   "metadata": {},
   "source": [
    "Clearly, classes 1, 3 and 4 are the most misclassified (>80%), with class 7 somewhat less (~60%).  \n",
    "\n",
    "Of those, class 3 misclassification has the biggest effect on the bottom line, because it is a common class, so it makes sense to begin our focus on feature engineering there.\n",
    "\n",
    "Classes 1, 4 and 7 are all infrequent classes, which suggests that perhaps we've \"underlearnt\" for those classes.  \n",
    "Perhaps the algorithm gave more preference to getting correct predictions for other, more common classes.\n",
    "\n",
    "Let's see which class labels the algorithm provides for the misclassified instances."
   ]
  },
  {
   "cell_type": "code",
   "execution_count": 61,
   "metadata": {
    "scrolled": true
   },
   "outputs": [
    {
     "data": {
      "text/plain": [
       "<matplotlib.axes._subplots.AxesSubplot at 0x1df5aba6908>"
      ]
     },
     "execution_count": 61,
     "metadata": {},
     "output_type": "execute_result"
    },
    {
     "data": {
      "image/png": "[encoded data removed]",
      "text/plain": [
       "<matplotlib.figure.Figure at 0x1df5abf1320>"
      ]
     },
     "metadata": {},
     "output_type": "display_data"
    }
   ],
   "source": [
    "X_test_analysis[~X_test_analysis[\"correct_prediction\"]][\"predictions\"].value_counts().loc[numbers_orders].plot(kind=\"bar\",\n",
    "                                                            title = \"Class Prediction counts for Misclassified Instances\")"
   ]
  },
  {
   "cell_type": "markdown",
   "metadata": {},
   "source": [
    "The vast majority are classified as class_2, which is the most frequently occuring class."
   ]
  },
  {
   "cell_type": "markdown",
   "metadata": {},
   "source": [
    "#### In summary:\n",
    "1. The model is leaning excessively towards class_2, because there are so many instances of it - practically all the mislabeled instances.\n",
    "2. Conversely, it's performing poorly for several uncommonly occurring classes, namely: 1, 4 and 7.\n",
    "3. It's performing poorly for class_3, despite it being a commonly occuring class, and this has a bigger effect on the general accuracy of the model.\n",
    "4. It would seem that class_3 is hard to learn, or at least hard to differentiate from class_2.\n",
    "\n",
    "####  A few ideas:\n",
    "1. Let's try training the model without the instances of class_2, and see if accuracy improves for class_3.\n",
    "2. Let's analyze the weights for class_2 and class_3 prediction (including the weights in class_3 prediction when training without class_2 instances), to see where there's an overlap, and see if feature-engineering on those features can improve accuracy for class_3."
   ]
  }
 ],
 "metadata": {
  "kernelspec": {
   "display_name": "Python 3",
   "language": "python",
   "name": "python3"
  },
  "language_info": {
   "codemirror_mode": {
    "name": "ipython",
    "version": 3
   },
   "file_extension": ".py",
   "mimetype": "text/x-python",
   "name": "python",
   "nbconvert_exporter": "python",
   "pygments_lexer": "ipython3",
   "version": "3.6.4"
  }
 },
 "nbformat": 4,
 "nbformat_minor": 2
}
